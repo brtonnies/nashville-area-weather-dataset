{
 "cells": [
  {
   "cell_type": "markdown",
   "id": "141035bd",
   "metadata": {},
   "source": [
    "# Nashville Area Weather Data"
   ]
  },
  {
   "cell_type": "markdown",
   "id": "51f58d33",
   "metadata": {},
   "source": [
    "## Library Imports"
   ]
  },
  {
   "cell_type": "code",
   "execution_count": 150,
   "id": "6bc80d24",
   "metadata": {
    "ExecuteTime": {
     "end_time": "2022-06-07T17:44:58.300285Z",
     "start_time": "2022-06-07T17:44:58.291593Z"
    }
   },
   "outputs": [],
   "source": [
    "# data collection and formatting\n",
    "import os\n",
    "import re\n",
    "import json\n",
    "import gzip\n",
    "import requests\n",
    "from io import BytesIO\n",
    "\n",
    "#tables and visualizations\n",
    "import pyarrow\n",
    "from pyarrow import feather\n",
    "import pandas as pd\n",
    "import numpy as np\n",
    "import seaborn as sns\n",
    "import matplotlib.pyplot as plt\n",
    "from matplotlib.pylab import rcParams\n",
    "rcParams['figure.figsize'] = 25, 20\n",
    "\n",
    "#machine learning\n",
    "from sklearn.model_selection import train_test_split, GridSearchCV\n",
    "from sklearn.linear_model import LogisticRegression\n",
    "from sklearn.ensemble import RandomForestClassifier\n",
    "from sklearn.pipeline import Pipeline \n",
    "from sklearn.compose import ColumnTransformer, make_column_selector\n",
    "from sklearn.impute import SimpleImputer\n",
    "from sklearn.preprocessing import OneHotEncoder, LabelBinarizer, StandardScaler\n",
    "from sklearn import config_context\n",
    "from sklearn.metrics import classification_report, confusion_matrix, ConfusionMatrixDisplay, roc_curve"
   ]
  },
  {
   "cell_type": "markdown",
   "id": "78eb0af3",
   "metadata": {},
   "source": [
    "## Loading the Data"
   ]
  },
  {
   "cell_type": "code",
   "execution_count": 2,
   "id": "f27d1bc0",
   "metadata": {
    "ExecuteTime": {
     "end_time": "2022-06-06T16:14:23.540318Z",
     "start_time": "2022-06-06T16:07:50.923332Z"
    }
   },
   "outputs": [],
   "source": [
    "# common vars/paths\n",
    "branch = 'cleaner-data'\n",
    "curr_dir = os.getcwd()\n",
    "data_dir = os.path.join(curr_dir, 'data')\n",
    "gh_data_root = \"https://github.com/brtonnies/nashville-area-weather-dataset/blob/{}/data\".format(branch)\n",
    "\n",
    "# flag so that we only load the remote data once (when set True), then manipulate it here\n",
    "remote = True\n",
    "\n",
    "# if you're saving the data :\n",
    "def save_feathers(df, name='isd'):\n",
    "    feather_dir = os.path.join(data_dir, name)\n",
    "    os.makedirs(feather_dir, exist_ok=True)\n",
    "    for month in range(1,13,1):\n",
    "        feather.write_feather(\n",
    "            df[df['month'] == month], \n",
    "            os.path.join(feather_dir, \"feather_{}\".format(month))\n",
    "        )\n",
    "        \n",
    "def test_save(df, name='test/station-month'):\n",
    "    feather_dir = os.path.join(data_dir, name)\n",
    "    stations = set(list(df['station']))\n",
    "    for station in stations:\n",
    "        feather_dir = os.path.join(feather_dir, station)\n",
    "        os.makedirs(os.path.join(feather_dir, station), exist_ok=True)\n",
    "        for month in range(1,13,1):\n",
    "            feather.write_feather(\n",
    "                df[(df['station'] == station) & (df['month'] == month)],\n",
    "                os.path.joinn(feather_dir, \"feather_{}\".format(month))\n",
    "            )\n",
    "        \n",
    "\n",
    "# **NOTE**: remember to download the feathers \n",
    "# from colab if you're changing data and want it committed\n",
    "\n",
    "# if you're retrieving the data.\n",
    "def load_feathers(name='isd', remote=remote):\n",
    "    frames = []\n",
    "    feather_dir = os.path.join(data_dir, name)\n",
    "    for month in range(1,13,1):\n",
    "        if remote:\n",
    "            res = requests.get(\n",
    "                \"{}/{}/feather_{}?raw=true\".format(gh_data_root, name, month), \n",
    "                stream=True)\n",
    "            res.raw.decode_content = True\n",
    "            fobj = BytesIO(res.raw.read())\n",
    "            frames.append(\n",
    "                feather.read_feather(fobj)\n",
    "            )\n",
    "        else:\n",
    "            frames.append(\n",
    "                feather.read_feather(\n",
    "                    os.path.join(feather_dir, \"feather_{}\".format(month))\n",
    "                )\n",
    "            )\n",
    "    remote = False\n",
    "    return pd.concat(frames, ignore_index=True)\n",
    "\n",
    "\n",
    "isd = load_feathers()\n",
    "isdlite = load_feathers(name='isdlite')"
   ]
  },
  {
   "cell_type": "code",
   "execution_count": 72,
   "id": "e2412f8f",
   "metadata": {
    "ExecuteTime": {
     "end_time": "2022-06-06T21:21:43.224566Z",
     "start_time": "2022-06-06T21:21:43.209882Z"
    }
   },
   "outputs": [
    {
     "name": "stdout",
     "output_type": "stream",
     "text": [
      "<class 'pandas.core.frame.DataFrame'>\n",
      "RangeIndex: 3577003 entries, 0 to 3577002\n",
      "Data columns (total 63 columns):\n",
      " #   Column                               Dtype         \n",
      "---  ------                               -----         \n",
      " 0   station                              int64         \n",
      " 1   latitude                             float64       \n",
      " 2   longitude                            float64       \n",
      " 3   elevation                            float64       \n",
      " 4   quality_control                      object        \n",
      " 5   year                                 int64         \n",
      " 6   month                                int64         \n",
      " 7   day                                  int64         \n",
      " 8   hour                                 int64         \n",
      " 9   minute                               int64         \n",
      " 10  sky_ceiling                          int64         \n",
      " 11  sky_ceiling_qual                     float64       \n",
      " 12  sky_ceiling_determination_code       object        \n",
      " 13  visibility_variable                  object        \n",
      " 14  visibility_variable_qual             object        \n",
      " 15  dew_point_temperature                float64       \n",
      " 16  dew_point_qual                       object        \n",
      " 17  air_temperature                      float64       \n",
      " 18  air_temperature_qual                 object        \n",
      " 19  wind_direction                       float64       \n",
      " 20  wind_direction_qual                  object        \n",
      " 21  wind_type                            object        \n",
      " 22  wind_speed                           float64       \n",
      " 23  wind_speed_qual                      object        \n",
      " 24  precipitation_period                 float64       \n",
      " 25  precipitation_depth                  float64       \n",
      " 26  precipitation_condition              float64       \n",
      " 27  precipitation_qual                   object        \n",
      " 28  proximity_intensity                  float64       \n",
      " 29  descriptor_code                      float64       \n",
      " 30  precipitation_code                   float64       \n",
      " 31  obscuration_code                     float64       \n",
      " 32  other_phenomena_code                 float64       \n",
      " 33  combination_indicator                float64       \n",
      " 34  weather_qual                         object        \n",
      " 35  weather_atmospheric_condition        float64       \n",
      " 36  weather_atmospheric_condition_qual   object        \n",
      " 37  sky_coverage                         float64       \n",
      " 38  sky_coverage_qual                    object        \n",
      " 39  sky_coverage_height                  float64       \n",
      " 40  sky_coverage_height_qual             object        \n",
      " 41  sky_cloud_type                       float64       \n",
      " 42  sky_cloud_type_qual                  object        \n",
      " 43  observed_atmospheric_condition       float64       \n",
      " 44  observed_atmospheric_condition_qual  object        \n",
      " 45  humidity_period_quantity             float64       \n",
      " 46  humidity_code                        object        \n",
      " 47  humidity_percentage                  float64       \n",
      " 48  humidity_derived_code                object        \n",
      " 49  humidity_percent_qual                object        \n",
      " 50  date                                 datetime64[ns]\n",
      " 51  region                               object        \n",
      " 52  sky_ceiling_cavok                    object        \n",
      " 53  visibility                           int64         \n",
      " 54  visibility_qual                      object        \n",
      " 55  saturated_vapor_pressure             float64       \n",
      " 56  actual_vapor_pressure                float64       \n",
      " 57  calculated_humidity                  float64       \n",
      " 58  short_station_id                     object        \n",
      " 59  station_date                         object        \n",
      " 60  station_year                         object        \n",
      " 61  repl_precipitation_depth             float64       \n",
      " 62  combined_precipitation_depth         float64       \n",
      "dtypes: datetime64[ns](1), float64(29), int64(8), object(25)\n",
      "memory usage: 1.7+ GB\n"
     ]
    }
   ],
   "source": [
    "isd.info()"
   ]
  },
  {
   "cell_type": "code",
   "execution_count": 4,
   "id": "a2b9c075",
   "metadata": {
    "ExecuteTime": {
     "end_time": "2022-06-06T16:16:37.056200Z",
     "start_time": "2022-06-06T16:15:28.677272Z"
    }
   },
   "outputs": [],
   "source": [
    "p = isd.apply(lambda x: x['repl_precipitation_depth'] if np.isnan(x['precipitation_depth']) else x['precipitation_depth'], axis=1)\n",
    "isd['combined_precipitation_depth'] = p\n",
    "isd['weather_atmospheric_condition'] = pd.to_numeric(isd['weather_atmospheric_condition'])"
   ]
  },
  {
   "cell_type": "code",
   "execution_count": 70,
   "id": "0439bdcb",
   "metadata": {
    "ExecuteTime": {
     "end_time": "2022-06-06T21:14:04.082760Z",
     "start_time": "2022-06-06T21:13:56.267888Z"
    }
   },
   "outputs": [],
   "source": [
    "# save_feathers(isd, 'isd_no_qual')"
   ]
  },
  {
   "cell_type": "code",
   "execution_count": 75,
   "id": "4525f9ce",
   "metadata": {
    "ExecuteTime": {
     "end_time": "2022-06-06T21:23:44.599415Z",
     "start_time": "2022-06-06T21:23:39.862832Z"
    }
   },
   "outputs": [
    {
     "data": {
      "text/plain": [
       "station                                 0\n",
       "latitude                                0\n",
       "longitude                               0\n",
       "elevation                               0\n",
       "year                                    0\n",
       "month                                   0\n",
       "day                                     0\n",
       "hour                                    0\n",
       "minute                                  0\n",
       "sky_ceiling                             0\n",
       "sky_ceiling_determination_code          0\n",
       "visibility_variable                     0\n",
       "dew_point_temperature              475550\n",
       "air_temperature                    473290\n",
       "wind_direction                    1122402\n",
       "wind_type                               0\n",
       "wind_speed                         401206\n",
       "precipitation_period              1231568\n",
       "precipitation_depth               1229509\n",
       "precipitation_condition           3405801\n",
       "proximity_intensity               3287687\n",
       "descriptor_code                   3287687\n",
       "precipitation_code                3287687\n",
       "obscuration_code                  3287687\n",
       "other_phenomena_code              3287687\n",
       "combination_indicator             3287687\n",
       "weather_atmospheric_condition     3288015\n",
       "sky_coverage                      2354541\n",
       "sky_coverage_height               2248700\n",
       "sky_cloud_type                    3152020\n",
       "observed_atmospheric_condition    1700084\n",
       "humidity_period_quantity          3542313\n",
       "humidity_code                     3542313\n",
       "humidity_percentage               3542313\n",
       "humidity_derived_code             3542313\n",
       "date                                    0\n",
       "region                                  0\n",
       "sky_ceiling_cavok                       0\n",
       "visibility                              0\n",
       "saturated_vapor_pressure           473290\n",
       "actual_vapor_pressure              475550\n",
       "calculated_humidity                475694\n",
       "short_station_id                        0\n",
       "station_date                            0\n",
       "station_year                            0\n",
       "repl_precipitation_depth          2936218\n",
       "combined_precipitation_depth       588724\n",
       "dtype: int64"
      ]
     },
     "execution_count": 75,
     "metadata": {},
     "output_type": "execute_result"
    }
   ],
   "source": [
    "['humidity_period_quantity', 'humidity_code', 'humidity_percentage', 'humidity_derived_code']\n",
    "isd.drop(columns=[c for c in isd.columns if 'qual' in c], inplace=True)\n",
    "isd.isna().sum()"
   ]
  },
  {
   "cell_type": "code",
   "execution_count": 55,
   "id": "33d4c4b8",
   "metadata": {
    "ExecuteTime": {
     "end_time": "2022-06-06T20:25:26.898367Z",
     "start_time": "2022-06-06T20:25:26.449482Z"
    }
   },
   "outputs": [
    {
     "data": {
      "text/html": [
       "<div>\n",
       "<style scoped>\n",
       "    .dataframe tbody tr th:only-of-type {\n",
       "        vertical-align: middle;\n",
       "    }\n",
       "\n",
       "    .dataframe tbody tr th {\n",
       "        vertical-align: top;\n",
       "    }\n",
       "\n",
       "    .dataframe thead th {\n",
       "        text-align: right;\n",
       "    }\n",
       "</style>\n",
       "<table border=\"1\" class=\"dataframe\">\n",
       "  <thead>\n",
       "    <tr style=\"text-align: right;\">\n",
       "      <th></th>\n",
       "      <th>short_station_id</th>\n",
       "      <th>combined_precipitation_depth</th>\n",
       "      <th>observed_atmospheric_condition</th>\n",
       "      <th>weather_atmospheric_condition</th>\n",
       "      <th>precipitation_condition</th>\n",
       "      <th>descriptor_code</th>\n",
       "      <th>precipitation_code</th>\n",
       "      <th>obscuration_code</th>\n",
       "      <th>other_phenomena_code</th>\n",
       "    </tr>\n",
       "  </thead>\n",
       "  <tbody>\n",
       "    <tr>\n",
       "      <th>3268980</th>\n",
       "      <td>13897</td>\n",
       "      <td>0.0</td>\n",
       "      <td>0.0</td>\n",
       "      <td>NaN</td>\n",
       "      <td>NaN</td>\n",
       "      <td>NaN</td>\n",
       "      <td>NaN</td>\n",
       "      <td>NaN</td>\n",
       "      <td>NaN</td>\n",
       "    </tr>\n",
       "    <tr>\n",
       "      <th>2994279</th>\n",
       "      <td>13897</td>\n",
       "      <td>0.0</td>\n",
       "      <td>NaN</td>\n",
       "      <td>NaN</td>\n",
       "      <td>NaN</td>\n",
       "      <td>NaN</td>\n",
       "      <td>NaN</td>\n",
       "      <td>NaN</td>\n",
       "      <td>NaN</td>\n",
       "    </tr>\n",
       "    <tr>\n",
       "      <th>1018306</th>\n",
       "      <td>13882</td>\n",
       "      <td>46.0</td>\n",
       "      <td>61.0</td>\n",
       "      <td>NaN</td>\n",
       "      <td>NaN</td>\n",
       "      <td>NaN</td>\n",
       "      <td>NaN</td>\n",
       "      <td>NaN</td>\n",
       "      <td>NaN</td>\n",
       "    </tr>\n",
       "    <tr>\n",
       "      <th>1306949</th>\n",
       "      <td>13882</td>\n",
       "      <td>0.0</td>\n",
       "      <td>0.0</td>\n",
       "      <td>NaN</td>\n",
       "      <td>NaN</td>\n",
       "      <td>NaN</td>\n",
       "      <td>NaN</td>\n",
       "      <td>NaN</td>\n",
       "      <td>NaN</td>\n",
       "    </tr>\n",
       "    <tr>\n",
       "      <th>3072829</th>\n",
       "      <td>13891</td>\n",
       "      <td>0.0</td>\n",
       "      <td>NaN</td>\n",
       "      <td>NaN</td>\n",
       "      <td>NaN</td>\n",
       "      <td>NaN</td>\n",
       "      <td>NaN</td>\n",
       "      <td>NaN</td>\n",
       "      <td>NaN</td>\n",
       "    </tr>\n",
       "    <tr>\n",
       "      <th>2620763</th>\n",
       "      <td>93808</td>\n",
       "      <td>NaN</td>\n",
       "      <td>0.0</td>\n",
       "      <td>NaN</td>\n",
       "      <td>NaN</td>\n",
       "      <td>NaN</td>\n",
       "      <td>NaN</td>\n",
       "      <td>NaN</td>\n",
       "      <td>NaN</td>\n",
       "    </tr>\n",
       "    <tr>\n",
       "      <th>1872740</th>\n",
       "      <td>13891</td>\n",
       "      <td>0.0</td>\n",
       "      <td>NaN</td>\n",
       "      <td>NaN</td>\n",
       "      <td>NaN</td>\n",
       "      <td>NaN</td>\n",
       "      <td>NaN</td>\n",
       "      <td>NaN</td>\n",
       "      <td>NaN</td>\n",
       "    </tr>\n",
       "    <tr>\n",
       "      <th>693479</th>\n",
       "      <td>13891</td>\n",
       "      <td>0.0</td>\n",
       "      <td>NaN</td>\n",
       "      <td>NaN</td>\n",
       "      <td>NaN</td>\n",
       "      <td>NaN</td>\n",
       "      <td>NaN</td>\n",
       "      <td>NaN</td>\n",
       "      <td>NaN</td>\n",
       "    </tr>\n",
       "    <tr>\n",
       "      <th>791510</th>\n",
       "      <td>03811</td>\n",
       "      <td>0.0</td>\n",
       "      <td>NaN</td>\n",
       "      <td>NaN</td>\n",
       "      <td>NaN</td>\n",
       "      <td>NaN</td>\n",
       "      <td>NaN</td>\n",
       "      <td>NaN</td>\n",
       "      <td>NaN</td>\n",
       "    </tr>\n",
       "    <tr>\n",
       "      <th>3014130</th>\n",
       "      <td>13897</td>\n",
       "      <td>0.0</td>\n",
       "      <td>NaN</td>\n",
       "      <td>NaN</td>\n",
       "      <td>NaN</td>\n",
       "      <td>NaN</td>\n",
       "      <td>NaN</td>\n",
       "      <td>NaN</td>\n",
       "      <td>NaN</td>\n",
       "    </tr>\n",
       "    <tr>\n",
       "      <th>2672020</th>\n",
       "      <td>13897</td>\n",
       "      <td>8.0</td>\n",
       "      <td>61.0</td>\n",
       "      <td>NaN</td>\n",
       "      <td>NaN</td>\n",
       "      <td>NaN</td>\n",
       "      <td>NaN</td>\n",
       "      <td>NaN</td>\n",
       "      <td>NaN</td>\n",
       "    </tr>\n",
       "    <tr>\n",
       "      <th>3494255</th>\n",
       "      <td>03816</td>\n",
       "      <td>0.0</td>\n",
       "      <td>0.0</td>\n",
       "      <td>NaN</td>\n",
       "      <td>NaN</td>\n",
       "      <td>NaN</td>\n",
       "      <td>NaN</td>\n",
       "      <td>NaN</td>\n",
       "      <td>NaN</td>\n",
       "    </tr>\n",
       "    <tr>\n",
       "      <th>1697922</th>\n",
       "      <td>03816</td>\n",
       "      <td>0.0</td>\n",
       "      <td>NaN</td>\n",
       "      <td>NaN</td>\n",
       "      <td>NaN</td>\n",
       "      <td>NaN</td>\n",
       "      <td>NaN</td>\n",
       "      <td>NaN</td>\n",
       "      <td>NaN</td>\n",
       "    </tr>\n",
       "    <tr>\n",
       "      <th>1013047</th>\n",
       "      <td>13882</td>\n",
       "      <td>0.0</td>\n",
       "      <td>61.0</td>\n",
       "      <td>NaN</td>\n",
       "      <td>NaN</td>\n",
       "      <td>NaN</td>\n",
       "      <td>NaN</td>\n",
       "      <td>NaN</td>\n",
       "      <td>NaN</td>\n",
       "    </tr>\n",
       "    <tr>\n",
       "      <th>791354</th>\n",
       "      <td>03811</td>\n",
       "      <td>0.0</td>\n",
       "      <td>NaN</td>\n",
       "      <td>NaN</td>\n",
       "      <td>NaN</td>\n",
       "      <td>NaN</td>\n",
       "      <td>NaN</td>\n",
       "      <td>NaN</td>\n",
       "      <td>NaN</td>\n",
       "    </tr>\n",
       "  </tbody>\n",
       "</table>\n",
       "</div>"
      ],
      "text/plain": [
       "        short_station_id  combined_precipitation_depth  \\\n",
       "3268980            13897                           0.0   \n",
       "2994279            13897                           0.0   \n",
       "1018306            13882                          46.0   \n",
       "1306949            13882                           0.0   \n",
       "3072829            13891                           0.0   \n",
       "2620763            93808                           NaN   \n",
       "1872740            13891                           0.0   \n",
       "693479             13891                           0.0   \n",
       "791510             03811                           0.0   \n",
       "3014130            13897                           0.0   \n",
       "2672020            13897                           8.0   \n",
       "3494255            03816                           0.0   \n",
       "1697922            03816                           0.0   \n",
       "1013047            13882                           0.0   \n",
       "791354             03811                           0.0   \n",
       "\n",
       "         observed_atmospheric_condition  weather_atmospheric_condition  \\\n",
       "3268980                             0.0                            NaN   \n",
       "2994279                             NaN                            NaN   \n",
       "1018306                            61.0                            NaN   \n",
       "1306949                             0.0                            NaN   \n",
       "3072829                             NaN                            NaN   \n",
       "2620763                             0.0                            NaN   \n",
       "1872740                             NaN                            NaN   \n",
       "693479                              NaN                            NaN   \n",
       "791510                              NaN                            NaN   \n",
       "3014130                             NaN                            NaN   \n",
       "2672020                            61.0                            NaN   \n",
       "3494255                             0.0                            NaN   \n",
       "1697922                             NaN                            NaN   \n",
       "1013047                            61.0                            NaN   \n",
       "791354                              NaN                            NaN   \n",
       "\n",
       "         precipitation_condition  descriptor_code  precipitation_code  \\\n",
       "3268980                      NaN              NaN                 NaN   \n",
       "2994279                      NaN              NaN                 NaN   \n",
       "1018306                      NaN              NaN                 NaN   \n",
       "1306949                      NaN              NaN                 NaN   \n",
       "3072829                      NaN              NaN                 NaN   \n",
       "2620763                      NaN              NaN                 NaN   \n",
       "1872740                      NaN              NaN                 NaN   \n",
       "693479                       NaN              NaN                 NaN   \n",
       "791510                       NaN              NaN                 NaN   \n",
       "3014130                      NaN              NaN                 NaN   \n",
       "2672020                      NaN              NaN                 NaN   \n",
       "3494255                      NaN              NaN                 NaN   \n",
       "1697922                      NaN              NaN                 NaN   \n",
       "1013047                      NaN              NaN                 NaN   \n",
       "791354                       NaN              NaN                 NaN   \n",
       "\n",
       "         obscuration_code  other_phenomena_code  \n",
       "3268980               NaN                   NaN  \n",
       "2994279               NaN                   NaN  \n",
       "1018306               NaN                   NaN  \n",
       "1306949               NaN                   NaN  \n",
       "3072829               NaN                   NaN  \n",
       "2620763               NaN                   NaN  \n",
       "1872740               NaN                   NaN  \n",
       "693479                NaN                   NaN  \n",
       "791510                NaN                   NaN  \n",
       "3014130               NaN                   NaN  \n",
       "2672020               NaN                   NaN  \n",
       "3494255               NaN                   NaN  \n",
       "1697922               NaN                   NaN  \n",
       "1013047               NaN                   NaN  \n",
       "791354                NaN                   NaN  "
      ]
     },
     "execution_count": 55,
     "metadata": {},
     "output_type": "execute_result"
    }
   ],
   "source": [
    "cols = [\n",
    "    'short_station_id',\n",
    "    'combined_precipitation_depth', \n",
    "    'observed_atmospheric_condition', \n",
    "    'weather_atmospheric_condition',\n",
    "    'precipitation_condition',\n",
    "    'descriptor_code',\n",
    "    'precipitation_code',\n",
    "    'obscuration_code',\n",
    "    'other_phenomena_code',\n",
    "]\n",
    "\n",
    "df = isd[cols]\n",
    "df[cols].sample(15)"
   ]
  },
  {
   "cell_type": "code",
   "execution_count": 8,
   "id": "120bda85",
   "metadata": {
    "ExecuteTime": {
     "end_time": "2022-06-06T16:18:39.018543Z",
     "start_time": "2022-06-06T16:18:39.012366Z"
    }
   },
   "outputs": [],
   "source": [
    "pcarr_desc = [\n",
    "\t'No precipitation',\n",
    "\t'Drizzle',\n",
    "\t'Rain',\n",
    "\t'Snow',\n",
    "\t'Snow Grains',\n",
    "\t'Ice Crystals',\n",
    "\t'Ice Pellets',\n",
    "\t'Hail',\n",
    "\t'Small Hail and/or Snow Pellets',\n",
    "\t'Unknown Precipitation',\n",
    "\t'Missing'\n",
    "]\n",
    "\n",
    "pcarr = [i for i in range(0,10,1) ]\n",
    "pcarr.append(99)\n",
    "precipitation_code_map = dict(zip(pcarr, pcarr_desc))\n",
    "pcm = precipitation_code_map\n",
    "\n",
    "precipitation_code_remap = {\n",
    "    'no precipitation': [k for k,v in precipitation_code_map.items() if k == 0],\n",
    "    'drizzle': [k for k,v in pcm.items() if k == 1],\n",
    "    'rain': [k for k,v in precipitation_code_map.items() if k == 2],\n",
    "    'snow': [k for k,v in precipitation_code_map.items() if k in [3, 4, 5]],\n",
    "    'hail': [k for k,v in precipitation_code_map.items() if k in [6, 7, 8]],\n",
    "    'unkown/missing': [k for k in precipitation_code_map.keys() if k in [9, 99]]\n",
    "}\n",
    "# invert the keys and values because I'm silly\n",
    "pcr = {}\n",
    "for d in precipitation_code_remap.keys():\n",
    "    for c in precipitation_code_remap[d]:\n",
    "        pcr[c] = d\n",
    "# pcr = precipitation_code_map"
   ]
  },
  {
   "cell_type": "code",
   "execution_count": 9,
   "id": "23ca2ee7",
   "metadata": {
    "ExecuteTime": {
     "end_time": "2022-06-06T16:18:42.491111Z",
     "start_time": "2022-06-06T16:18:41.672411Z"
    }
   },
   "outputs": [
    {
     "data": {
      "text/plain": [
       "no precipitation    159822\n",
       "rain                111202\n",
       "snow                 13260\n",
       "drizzle               3655\n",
       "unkown/missing        1130\n",
       "hail                   247\n",
       "Name: precipitation_code, dtype: int64"
      ]
     },
     "execution_count": 9,
     "metadata": {},
     "output_type": "execute_result"
    }
   ],
   "source": [
    "pcs = df['precipitation_code'].apply(lambda x: pcr[x] if x in pcr.keys() else x)\n",
    "pcs[pcs.notna()].value_counts()"
   ]
  },
  {
   "cell_type": "code",
   "execution_count": 10,
   "id": "7b49caf0",
   "metadata": {
    "ExecuteTime": {
     "end_time": "2022-06-06T16:18:45.891366Z",
     "start_time": "2022-06-06T16:18:45.015986Z"
    }
   },
   "outputs": [
    {
     "data": {
      "text/plain": [
       "no descriptor    249428\n",
       "thunderstorm      33667\n",
       "patches            2938\n",
       "freezing           2563\n",
       "shallow             714\n",
       "blowing               6\n",
       "Name: descriptor_code, dtype: int64"
      ]
     },
     "execution_count": 10,
     "metadata": {},
     "output_type": "execute_result"
    }
   ],
   "source": [
    "descriptors = [\n",
    "\t'No descriptor',\n",
    "\t'Shallow',\n",
    "\t'Partial',\n",
    "\t'Patches',\n",
    "\t'Low Drifting',\n",
    "\t'Blowing',\n",
    "\t'Showers',\n",
    "\t'Thunderstorm',\n",
    "\t'Freezing',\n",
    "\tnp.nan\n",
    "]\n",
    "\n",
    "dcarr = [i for i in range(0,10,1)]\n",
    "descriptor_code_map = dict(zip(dcarr, descriptors))\n",
    "dcm = descriptor_code_map\n",
    "\n",
    "\n",
    "dcs = df['descriptor_code'].apply(lambda x: dcm[x].lower() if x in dcm.keys() else x)\n",
    "dcs[dcs.notna()].value_counts()"
   ]
  },
  {
   "cell_type": "code",
   "execution_count": 11,
   "id": "64e3d86b",
   "metadata": {
    "ExecuteTime": {
     "end_time": "2022-06-06T16:19:10.368862Z",
     "start_time": "2022-06-06T16:19:09.557730Z"
    }
   },
   "outputs": [
    {
     "data": {
      "text/plain": [
       "None Reported                        289287\n",
       "Squalls                                  24\n",
       "Funnel Cloud, Tornado, Waterspout         4\n",
       "Duststorm                                 1\n",
       "Name: other_phenomena_code, dtype: int64"
      ]
     },
     "execution_count": 11,
     "metadata": {},
     "output_type": "execute_result"
    }
   ],
   "source": [
    "phenom_desc = [\n",
    "\t'None Reported',\n",
    "\t'Well-developed Dust/Sand Whirls',\n",
    "\t'Squalls',\n",
    "\t'Funnel Cloud, Tornado, Waterspout',\n",
    "\t'Sandstorm',\n",
    "\t'Duststorm',\n",
    "\t'Missing'\n",
    "]\n",
    "\n",
    "phenom_arr = [i for i in range(0,6,1)]\n",
    "phenom_arr.append(9)\n",
    "opcm = dict(zip(phenom_arr, phenom_desc))\n",
    "\n",
    "ops = df['other_phenomena_code'].apply(lambda x: opcm[x] if x in opcm.keys() else x)\n",
    "ops[ops.notna()].value_counts()"
   ]
  },
  {
   "cell_type": "code",
   "execution_count": 12,
   "id": "051b8a68",
   "metadata": {
    "ExecuteTime": {
     "end_time": "2022-06-06T16:19:13.812107Z",
     "start_time": "2022-06-06T16:19:12.996182Z"
    }
   },
   "outputs": [
    {
     "data": {
      "text/plain": [
       "No Obscuration     289287\n",
       "Fog                    24\n",
       "Smoke                   4\n",
       "Widespread Dust         1\n",
       "Name: other_phenomena_code, dtype: int64"
      ]
     },
     "execution_count": 12,
     "metadata": {},
     "output_type": "execute_result"
    }
   ],
   "source": [
    "obscure_desc = [\n",
    "\t'No Obscuration',\n",
    "\t'Mist',\n",
    "\t'Fog',\n",
    "\t'Smoke',\n",
    "\t'Volcanic Ash',\n",
    "\t'Widespread Dust',\n",
    "\t'Sand',\n",
    "\t'Haze',\n",
    "\t'Spray',\n",
    "\t'Missing'\n",
    "]\n",
    "obscure_arr = [i for i in range(0,10,1)]\n",
    "ocm = dict(zip(obscure_arr, obscure_desc))\n",
    "\n",
    "ocs = df['other_phenomena_code'].apply(lambda x: ocm[x] if x in ocm.keys() else x)\n",
    "ocs[ocs.notna()].value_counts()"
   ]
  },
  {
   "cell_type": "markdown",
   "id": "9019857e",
   "metadata": {},
   "source": [
    "### Atmospheric Condition Codes\n",
    "They get their own header because they're 100 lines apiece."
   ]
  },
  {
   "cell_type": "code",
   "execution_count": 67,
   "id": "9dd36941",
   "metadata": {
    "ExecuteTime": {
     "end_time": "2022-06-06T20:51:02.123030Z",
     "start_time": "2022-06-06T20:51:01.089851Z"
    }
   },
   "outputs": [
    {
     "data": {
      "text/plain": [
       "mist                                195191\n",
       "rain                                 50070\n",
       "fog                                  18297\n",
       "wintry mix, snow, or ice pellets      6420\n",
       "haze, smoke, or dust                  6290\n",
       "thunderstorm                          5637\n",
       "distant lightning                     5401\n",
       "drizzle                                978\n",
       "precipitation                          513\n",
       "squalls                                180\n",
       "17.0                                     6\n",
       "hail                                     3\n",
       "tornado                                  1\n",
       "no significant weather                   1\n",
       "Name: weather_atmospheric_condition, dtype: int64"
      ]
     },
     "execution_count": 67,
     "metadata": {},
     "output_type": "execute_result"
    }
   ],
   "source": [
    "weather_atmospheric_condition_map = {\n",
    "\t0: 'No significant weather observed', #\n",
    "\t1: 'Clouds generally dissolving or becoming less developed', #\n",
    "\t2: 'State of sky on the whole unchanged during the past hour', #\n",
    "\t3: 'Clouds generally forming or developing during the past hour', #\n",
    "\t4: 'Haze, smoke, or dust in suspension in the air, visibility equal to or greater than 1km', #\n",
    "\t5: 'Smoke', #\n",
    "\t7: 'Dust or sand raised by wind at or near the station at the time of observation, but no well-developed dust irl(s) whirls(s) or sand whirl(s), and no duststorm or sandstorm seen or, in the case of ships, blowing spray at the station', #\n",
    "\t10: 'Mist',\n",
    "\t11: 'Diamond dust',\n",
    "\t12: 'Distant lightning',\n",
    "\t18: 'Squalls',\n",
    "\t20: 'Fog',\n",
    "\t21: 'Precipitation',\n",
    "\t22: 'Drizzle (not freezing) or snow grains',\n",
    "\t23: 'Rain (not freezing)',\n",
    "\t24: 'Snow',\n",
    "\t25: 'Freezing drizzle or freezing rain',\n",
    "\t26: 'Thunderstorm (with or without precipitation)',\n",
    "\t27: 'Blowing or drifting snow or sand',\n",
    "\t28: 'Blowing or drifting snow or sand, visibility equal to or greater than 1 km',\n",
    "\t29: 'Blowing or drifting snow or sand, visibility less than 1 km',\n",
    "\t30: 'Fog',\n",
    "\t31: 'Fog or ice fog in patches',\n",
    "\t32: 'Fog or ice fog, has become thinner during the past hour',\n",
    "\t33: 'Fog or ice fog, no appreciable change during the past hour',\n",
    "\t34: 'Fog or ice fog, has begun or become thicker during the past hour',\n",
    "\t35: 'Fog, depositing rime',\n",
    "\t40: 'Precipitation',\n",
    "\t41: 'Precipitation, slight or moderate',\n",
    "\t42: 'Precipitation, heavy',\n",
    "\t43: 'Liquid precipitation, slight or moderate',\n",
    "\t44: 'Liquid precipitation, heavy',\n",
    "\t45: 'Solid precipitation, slight or moderate',\n",
    "\t46: 'Solid precipitation, heavy',\n",
    "\t47: 'Freezing precipitation, slight or moderate',\n",
    "\t48: 'Freezing precipitation, heavy',\n",
    "\t50: 'Drizzle',\n",
    "\t51: 'Drizzle, not freezing, slight',\n",
    "\t52: 'Drizzle, not freezing, moderate',\n",
    "\t53: 'Drizzle, not freezing, heavy',\n",
    "\t54: 'Drizzle, freezing, slight',\n",
    "\t55: 'Drizzle, freezing, moderate',\n",
    "\t56: 'Drizzle, freezing, heavy',\n",
    "\t57: 'Drizzle and rain, slight',\n",
    "\t58: 'Drizzle and rain, moderate or heavy',\n",
    "\t60: 'Rain',\n",
    "\t61: 'Rain, not freezing, slight',\n",
    "\t62: 'Rain, not freezing, moderate',\n",
    "\t63: 'Rain, not freezing, heavy',\n",
    "\t64: 'Rain, freezing, slight',\n",
    "\t65: 'Rain, freezing, moderate',\n",
    "\t66: 'Rain, freezing, heavy',\n",
    "\t67: 'Rain or drizzle and snow, slight',\n",
    "\t68: 'Rain or drizzle and snow, moderate or heavy',\n",
    "\t70: 'Snow',\n",
    "\t71: 'Snow, slight',\n",
    "\t72: 'Snow, moderate',\n",
    "\t73: 'Snow, heavy',\n",
    "\t74: 'Ice pellets, slight',\n",
    "\t75: 'Ice pellets, moderate',\n",
    "\t76: 'Ice pellets, heavy',\n",
    "\t77: 'Snow grains',\n",
    "\t78: 'Ice crystals',\n",
    "\t80: 'Showers or intermittent precipitation',\n",
    "\t81: 'Rain showers or intermittent rain, slight',\n",
    "\t82: 'Rain showers or intermittent rain, moderate',\n",
    "\t83: 'Rain showers or intermittent rain, heavy',\n",
    "\t84: 'Rain showers or intermittent rain, violent',\n",
    "\t85: 'Snow showers or intermittent snow, slight',\n",
    "\t86: 'Snow showers or intermittent snow, moderate',\n",
    "\t87: 'Snow showers or intermittent snow, heavy',\n",
    "\t89: 'Hail',\n",
    "\t90: 'Thunderstorm',\n",
    "\t91: 'Thunderstorm, slight or moderate, with no precipitation',\n",
    "\t92: 'Thunderstorm, slight or moderate, with rain showers and/or snow showers',\n",
    "\t93: 'Thunderstorm, slight or moderate, with hail',\n",
    "\t94: 'Thunderstorm, heavy, with no precipitation',\n",
    "\t95: 'Thunderstorm, heavy, with rain showers and/or snow',\n",
    "\t96: 'Thunderstorm, heavy, with hail',\n",
    "\t99: 'Tornado'\n",
    "}\n",
    "\n",
    "weather_atmospheric_condition_remap = {\n",
    "    'no significant weather': [0],\n",
    "    'clouds clearing': [1],\n",
    "    'sky unchanged': [2],\n",
    "    'getting cloudy': [3],\n",
    "    'thunderstorm': [26, 90, 91, 92, 93, 94, 95, 96],\n",
    "    'haze, smoke, or dust': [4, 5, 7, 11],\n",
    "    'fog': [i for sublist in [[20], [j for j in range(30,36)]] for i in sublist],\n",
    "    'mist': [10],\n",
    "    'distant lightning': [12],\n",
    "    'squalls': [18],\n",
    "    'precipitation': [21, 40, 41, 42, 43, 44, 45, 46, 47, 48, 80],\n",
    "    'drizzle': [50, 51, 52, 53, 54, 55, 56],\n",
    "    'rain': [i for sublist in [[j for j in range(57, 67)], [k for k in range(81,85)]] for i in sublist if i != 59],\n",
    "    'wintry mix, snow, or ice pellets': [i for sublist in [[27], [j for j in range(67, 79)], [k for k in range(85, 89)]] for i in sublist if i != 69],\n",
    "    'hail': [89],\n",
    "    'tornado': [99]\n",
    "}\n",
    "\n",
    "# invert the keys and values because I'm silly\n",
    "wacmr = {}\n",
    "for d in weather_atmospheric_condition_remap.keys():\n",
    "    for c in weather_atmospheric_condition_remap[d]:\n",
    "        wacmr[c] = d\n",
    "        \n",
    "# display(weather_atmospheric_condition_remap)\n",
    "wacm = weather_atmospheric_condition_map\n",
    "# wacs = df['weather_atmospheric_condition'].apply(lambda x: wacm[x] if x in wacm.keys() else x)\n",
    "wacs = df['weather_atmospheric_condition'].apply(lambda x: wacmr[x] if x in wacmr.keys() else x)\n",
    "wacs[wacs.notna()].value_counts()"
   ]
  },
  {
   "cell_type": "code",
   "execution_count": 94,
   "id": "d5b66f53",
   "metadata": {
    "ExecuteTime": {
     "end_time": "2022-06-06T22:20:02.046156Z",
     "start_time": "2022-06-06T22:20:02.031210Z"
    }
   },
   "outputs": [],
   "source": [
    "observed_atmospheric_condition_map = {\n",
    "\t0: 'Cloud development not observed or not observable',\n",
    "\t1: 'Clouds generally dissolving or becoming less developed',\n",
    "\t2: 'State of sky on the whole unchanged',\n",
    "\t3: 'Clouds generally forming or developing',\n",
    "\t4: 'Visibility reduced by smoke, e.g. veldt or forest fires, industrial smoke or volcanic ashes',\n",
    "\t5: 'Haze',\n",
    "\t6: 'Widespread dust in suspension in the air, not raised by wind at or near the station at the time of observation',\n",
    "\t7: 'Dust or sand raised by wind at or near the station at the time of observation, but no well-developed dust whirl(s) sand whirl(s), and no duststorm or sandstorm seen or, in the case of ships, blowing spray at the station',\n",
    "\t8: 'Well developed dust whirl(s) or sand whirl(s) seen at or near the station during the preceding hour or at the time of observation, but no duststorm or sandstorm',\n",
    "\t9: 'Duststorm or sandstorm within sight at the time of observation, or at the station during the preceding hour',\n",
    "\t10: 'Mist',\n",
    "\t11: 'Patches of shallow fog or ice fog at the station, whether on land or sea, not deeper than about 2 meters on land or 10 meters at sea',\n",
    "\t12: 'More or less continuous shallow fog or ice fog at the station, whether on land or sea, not deeper than about 2 meters on land or 10 meters at sea',\n",
    "\t13: 'Lightning visible, no thunder heard',\n",
    "\t14: 'Precipitation within sight, not reaching the ground or the surface of the sea',\n",
    "\t15: 'Precipitation within sight, reaching the ground or the surface of the sea, but distant, i.e., estimated to be more than 5 km from the station',\n",
    "\t16: 'Precipitation within sight, reaching the ground or the surface of the sea, near to, but not at the station',\n",
    "\t17: 'Thunderstorm, but no precipitation at the time of observation',\n",
    "\t18: 'Squalls at or within sight of the station during the preceding hour or at the time of observation',\n",
    "\t19: 'Funnel cloud(s) (Tornado cloud or waterspout) at or within sight of the station during the preceding hour or at the time of observation',\n",
    "\t20: 'Drizzle (not freezing) or snow grains not falling as shower(s)',\n",
    "\t21: 'Rain (not freezing) not falling as shower(s)',\n",
    "\t22: 'Snow not falling as shower(s)',\n",
    "\t23: 'Rain and snow or ice pellets not falling as shower(s)',\n",
    "\t24: 'Freezing drizzle or freezing rain not falling as shower(s)',\n",
    "\t25: 'Shower(s) of rain',\n",
    "\t26: 'Shower(s) of snow or of rain and snow',\n",
    "\t27: 'Shower(s) of hail (Hail, small hail, snow pellets), or rain and hail',\n",
    "\t28: 'Fog or ice fog',\n",
    "\t29: 'Thunderstorm (with or without precipitation)',\n",
    "\t30: 'Slight or moderate duststorm or sandstorm has decreased during the preceding hour',\n",
    "\t31: 'Slight or moderate duststorm or sandstorm no appreciable change during the preceding hour',\n",
    "\t32: 'Slight or moderate duststorm or sandstorm has begun or has increased during the preceding hour',\n",
    "\t33: 'Severe duststorm or sandstorm has decreased during the preceding hour',\n",
    "\t34: 'Severe duststorm or sandstorm no appreciable change during the preceding hour',\n",
    "\t35: 'Severe duststorm or sandstorm has begun or has increased during the preceding hour',\n",
    "\t36: 'Slight or moderate drifting snow generally low (below eye level)',\n",
    "\t37: 'Heavy drifting snow generally low (below eye level)',\n",
    "\t38: 'Slight or moderate blowing snow generally high (above eye level)',\n",
    "\t39: 'Heavy blowing snow generally high (above eye level)',\n",
    "\t40: 'Fog or ice fog at a distance at the time of observation, but not at the station during the preceding hour, the fog or ice fog extending to a level above that of the observer',\n",
    "\t41: 'Fog or ice fog in patches',\n",
    "\t42: 'Fog or ice fog, sky visible, has become thinner during the preceding hour',\n",
    "\t43: 'Fog or ice fog, sky invisible, has become thinner during the preceding hour',\n",
    "\t44: 'Fog or ice fog, sky visible, no appreciable change during the preceding hour',\n",
    "\t45: 'Fog or ice fog, sky invisible, no appreciable change during the preceding hour',\n",
    "\t46: 'Fog or ice fog, sky visible, has begun or has become thicker during the preceding hour',\n",
    "\t47: 'Fog or ice fog, sky invisible, has begun or has become thicker during the preceding hour',\n",
    "\t48: 'Fog, depositing rime, sky visible',\n",
    "\t49: 'Fog, depositing rime, sky invisible',\n",
    "\t50: 'Drizzle, not freezing, intermittent, slight at time of observation',\n",
    "\t51: 'Drizzle, not freezing, continuous, slight at time of observation',\n",
    "\t52: 'Drizzle, not freezing, intermittent, moderate at time of observation',\n",
    "\t53: 'Drizzle, not freezing, continuous, moderate at time of observation',\n",
    "\t54: 'Drizzle, not freezing, intermittent, heavy (dense) at time of observation',\n",
    "\t55: 'Drizzle, not freezing, continuous, heavy (dense) at time of observation',\n",
    "\t56: 'Drizzle, freezing, slight',\n",
    "\t57: 'Drizzle, freezing, moderate or heavy (dense)',\n",
    "\t58: 'Drizzle and rain, slight',\n",
    "\t59: 'Drizzle and rain, moderate or heavy',\n",
    "\t60: 'Rain, not freezing, intermittent, slight at time of observation',\n",
    "\t61: 'Rain, not freezing, continuous, slight at time of observation',\n",
    "\t62: 'Rain, not freezing, intermittent, moderate at time of observation',\n",
    "\t63: 'Rain, not freezing, continuous, moderate at time of observation',\n",
    "\t64: 'Rain, not freezing, intermittent, heavy at time of observation',\n",
    "\t65: 'Rain, not freezing, continuous, heavy at time of observation',\n",
    "\t66: 'Rain, freezing, slight',\n",
    "\t67: 'Rain, freezing, moderate or heavy',\n",
    "\t68: 'Rain or drizzle and snow, slight',\n",
    "\t69: 'Rain or drizzle and snow, moderate or heavy',\n",
    "\t70: 'Intermittent fall of snowflakes, slight at time of observation',\n",
    "\t71: 'Continuous fall of snowflakes, slight at time of observation',\n",
    "\t72: 'Intermittent fall of snowflakes, moderate at time of observation',\n",
    "\t73: 'Continuous fall of snowflakes, moderate at time of observation',\n",
    "\t74: 'Intermittent fall of snowflakes, heavy at time of observation',\n",
    "\t75: 'Continuous fall of snowflakes, heavy at time of observation',\n",
    "\t76: 'Diamond dust (with or without fog)',\n",
    "\t77: 'Snow grains (with or without fog)',\n",
    "\t78: 'Isolated star-like snow crystals (with or without fog)',\n",
    "\t79: 'Ice pellets',\n",
    "\t80: 'Rain shower(s), slight',\n",
    "\t81: 'Rain shower(s), moderate or heavy',\n",
    "\t82: 'Rain shower(s), violent',\n",
    "\t83: 'Shower(s) of rain and snow mixed, slight',\n",
    "\t84: 'Shower(s) of rain and snow mixed, moderate or heavy',\n",
    "\t85: 'Snow shower(s), slight',\n",
    "\t86: 'Snow shower(s), moderate or heavy',\n",
    "\t87: 'Shower(s) of snow pellets or small hail, with or without rain or rain and snow mixed, slight',\n",
    "\t88: 'Shower(s) of snow pellets or small hail, with or without rain or rain and snow mixed, moderate or heavy',\n",
    "\t89: 'Shower(s) of hail (hail, small hail, snow pellets), with or without rain or rain and snow mixed, not associated with thunder, slight',\n",
    "\t90: 'Shower(s) of hail (hail, small hail, snow pellets), with or without rain or rain and snow mixed, not associated with thunder, moderate or heavy',\n",
    "\t91: 'Slight rain at time of observation, thunderstorm during the preceding hour but not at time of observation',\n",
    "\t92: 'Moderate or heavy rain at time of observation, thunderstorm during the preceding hour but not at time of observation',\n",
    "\t93: 'Slight snow, or rain and snow mixed or hail (Hail, small hail, snow pellets), at time of observation, thunderstorm during the preceding hour but not at time of observation',\n",
    "\t94: 'Moderate or heavy snow, or rain and snow mixed or hail(Hail, small hail, snow pellets) at time of observation, thunderstorm during the preceding hour but not at time of observation',\n",
    "\t95: 'Thunderstorm, slight or moderate, without hail (Hail, small hail, snow pellets), but with rain and/or snow at time of observation, thunderstorm at time of observation',\n",
    "\t96: 'Thunderstorm, slight or moderate, with hail (hail, small hail, snow pellets) at time of observation, thunderstorm at time of observation',\n",
    "\t97: 'Thunderstorm, heavy, without hail (Hail, small hail, snow pellets), but with rain and/or snow at time of observation, thunderstorm at time of observation',\n",
    "\t98: 'Thunderstorm combined with duststorm or sandstorm at time of observation, thunderstorm at time of observation',\n",
    "\t99: 'Thunderstorm, heavy, with hail (Hail, small hail, snow pellets) at time of observation, thunderstorm at time of observation'\n",
    "}\n",
    "\n",
    "observed_atmospheric_condition_remap = {\n",
    "    'sky unchanged': [0,2],\n",
    "    'clouds clearing': [1],\n",
    "    'getting cloudy': [3],\n",
    "    'thunderstorm': [i for sublist in [\n",
    "        [17, 29], \n",
    "        [j for j in range(95,100)]\n",
    "    ] for i in sublist],\n",
    "    'haze, smoke, or dust': [i for sublist in [\n",
    "        [j for j in range(30,36)], \n",
    "        [k for k in range(4,10)]\n",
    "    ] for i in sublist],\n",
    "    'fog': [i for sublist in [\n",
    "        [11, 12, 28], \n",
    "        [j for j in range(40,50)]\n",
    "    ] for i in sublist],\n",
    "    'mist': [10],\n",
    "    'distant lightning': [13],\n",
    "    'squalls': [18],\n",
    "    'precipitation': [i for sublist in [\n",
    "        [j for j in range(14,17)],\n",
    "        []\n",
    "    ] for i in sublist],\n",
    "    'drizzle': [i for sublist in [\n",
    "        [i for i in range(50,60)],\n",
    "        [24]\n",
    "    ] for i in sublist],\n",
    "    'rain': [i for sublist in [\n",
    "        [21, 25, 91, 80, 81, 82],\n",
    "        [j for j in range(60,70)]\n",
    "    ] for i in sublist],\n",
    "    'wintry mix, snow, or ice pellets': [i for sublist in [\n",
    "        [20, 22, 23, 26, 38, 39],\n",
    "        [j for j in range(70,80)],\n",
    "        [j for j in range(83, 91)],\n",
    "        [j for j in range(92, 95)]\n",
    "    ] for i in sublist],\n",
    "    'hail': [27],\n",
    "    'tornado': [19]\n",
    "}\n",
    "\n",
    "# invert the keys and values because I'm silly\n",
    "oacmr = {}\n",
    "for d in observed_atmospheric_condition_remap.keys():\n",
    "    for c in observed_atmospheric_condition_remap[d]:\n",
    "        oacmr[c] = d\n",
    "\n",
    "oacm = observed_atmospheric_condition_map\n",
    "# oacmr"
   ]
  },
  {
   "cell_type": "code",
   "execution_count": 95,
   "id": "ebec8484",
   "metadata": {
    "ExecuteTime": {
     "end_time": "2022-06-06T22:20:06.253059Z",
     "start_time": "2022-06-06T22:20:06.238801Z"
    }
   },
   "outputs": [
    {
     "data": {
      "text/plain": [
       "{0: 'No descriptor',\n",
       " 1: 'Shallow',\n",
       " 2: 'Partial',\n",
       " 3: 'Patches',\n",
       " 4: 'Low Drifting',\n",
       " 5: 'Blowing',\n",
       " 6: 'Showers',\n",
       " 7: 'Thunderstorm',\n",
       " 8: 'Freezing',\n",
       " 9: nan}"
      ]
     },
     "metadata": {},
     "output_type": "display_data"
    },
    {
     "data": {
      "text/plain": [
       "{0: 'No precipitation',\n",
       " 1: 'Drizzle',\n",
       " 2: 'Rain',\n",
       " 3: 'Snow',\n",
       " 4: 'Snow Grains',\n",
       " 5: 'Ice Crystals',\n",
       " 6: 'Ice Pellets',\n",
       " 7: 'Hail',\n",
       " 8: 'Small Hail and/or Snow Pellets',\n",
       " 9: 'Unknown Precipitation',\n",
       " 99: 'Missing'}"
      ]
     },
     "metadata": {},
     "output_type": "display_data"
    },
    {
     "data": {
      "text/plain": [
       "{0: 'No Obscuration',\n",
       " 1: 'Mist',\n",
       " 2: 'Fog',\n",
       " 3: 'Smoke',\n",
       " 4: 'Volcanic Ash',\n",
       " 5: 'Widespread Dust',\n",
       " 6: 'Sand',\n",
       " 7: 'Haze',\n",
       " 8: 'Spray',\n",
       " 9: 'Missing'}"
      ]
     },
     "metadata": {},
     "output_type": "display_data"
    },
    {
     "data": {
      "text/plain": [
       "{0: 'None Reported',\n",
       " 1: 'Well-developed Dust/Sand Whirls',\n",
       " 2: 'Squalls',\n",
       " 3: 'Funnel Cloud, Tornado, Waterspout',\n",
       " 4: 'Sandstorm',\n",
       " 5: 'Duststorm',\n",
       " 9: 'Missing'}"
      ]
     },
     "metadata": {},
     "output_type": "display_data"
    },
    {
     "data": {
      "text/plain": [
       "{0: 'No significant weather observed',\n",
       " 1: 'Clouds generally dissolving or becoming less developed',\n",
       " 2: 'State of sky on the whole unchanged during the past hour',\n",
       " 3: 'Clouds generally forming or developing during the past hour',\n",
       " 4: 'Haze, smoke, or dust in suspension in the air, visibility equal to or greater than 1km',\n",
       " 5: 'Smoke',\n",
       " 7: 'Dust or sand raised by wind at or near the station at the time of observation, but no well-developed dust irl(s) whirls(s) or sand whirl(s), and no duststorm or sandstorm seen or, in the case of ships, blowing spray at the station',\n",
       " 10: 'Mist',\n",
       " 11: 'Diamond dust',\n",
       " 12: 'Distant lightning',\n",
       " 18: 'Squalls',\n",
       " 20: 'Fog',\n",
       " 21: 'Precipitation',\n",
       " 22: 'Drizzle (not freezing) or snow grains',\n",
       " 23: 'Rain (not freezing)',\n",
       " 24: 'Snow',\n",
       " 25: 'Freezing drizzle or freezing rain',\n",
       " 26: 'Thunderstorm (with or without precipitation)',\n",
       " 27: 'Blowing or drifting snow or sand',\n",
       " 28: 'Blowing or drifting snow or sand, visibility equal to or greater than 1 km',\n",
       " 29: 'Blowing or drifting snow or sand, visibility less than 1 km',\n",
       " 30: 'Fog',\n",
       " 31: 'Fog or ice fog in patches',\n",
       " 32: 'Fog or ice fog, has become thinner during the past hour',\n",
       " 33: 'Fog or ice fog, no appreciable change during the past hour',\n",
       " 34: 'Fog or ice fog, has begun or become thicker during the past hour',\n",
       " 35: 'Fog, depositing rime',\n",
       " 40: 'Precipitation',\n",
       " 41: 'Precipitation, slight or moderate',\n",
       " 42: 'Precipitation, heavy',\n",
       " 43: 'Liquid precipitation, slight or moderate',\n",
       " 44: 'Liquid precipitation, heavy',\n",
       " 45: 'Solid precipitation, slight or moderate',\n",
       " 46: 'Solid precipitation, heavy',\n",
       " 47: 'Freezing precipitation, slight or moderate',\n",
       " 48: 'Freezing precipitation, heavy',\n",
       " 50: 'Drizzle',\n",
       " 51: 'Drizzle, not freezing, slight',\n",
       " 52: 'Drizzle, not freezing, moderate',\n",
       " 53: 'Drizzle, not freezing, heavy',\n",
       " 54: 'Drizzle, freezing, slight',\n",
       " 55: 'Drizzle, freezing, moderate',\n",
       " 56: 'Drizzle, freezing, heavy',\n",
       " 57: 'Drizzle and rain, slight',\n",
       " 58: 'Drizzle and rain, moderate or heavy',\n",
       " 60: 'Rain',\n",
       " 61: 'Rain, not freezing, slight',\n",
       " 62: 'Rain, not freezing, moderate',\n",
       " 63: 'Rain, not freezing, heavy',\n",
       " 64: 'Rain, freezing, slight',\n",
       " 65: 'Rain, freezing, moderate',\n",
       " 66: 'Rain, freezing, heavy',\n",
       " 67: 'Rain or drizzle and snow, slight',\n",
       " 68: 'Rain or drizzle and snow, moderate or heavy',\n",
       " 70: 'Snow',\n",
       " 71: 'Snow, slight',\n",
       " 72: 'Snow, moderate',\n",
       " 73: 'Snow, heavy',\n",
       " 74: 'Ice pellets, slight',\n",
       " 75: 'Ice pellets, moderate',\n",
       " 76: 'Ice pellets, heavy',\n",
       " 77: 'Snow grains',\n",
       " 78: 'Ice crystals',\n",
       " 80: 'Showers or intermittent precipitation',\n",
       " 81: 'Rain showers or intermittent rain, slight',\n",
       " 82: 'Rain showers or intermittent rain, moderate',\n",
       " 83: 'Rain showers or intermittent rain, heavy',\n",
       " 84: 'Rain showers or intermittent rain, violent',\n",
       " 85: 'Snow showers or intermittent snow, slight',\n",
       " 86: 'Snow showers or intermittent snow, moderate',\n",
       " 87: 'Snow showers or intermittent snow, heavy',\n",
       " 89: 'Hail',\n",
       " 90: 'Thunderstorm',\n",
       " 91: 'Thunderstorm, slight or moderate, with no precipitation',\n",
       " 92: 'Thunderstorm, slight or moderate, with rain showers and/or snow showers',\n",
       " 93: 'Thunderstorm, slight or moderate, with hail',\n",
       " 94: 'Thunderstorm, heavy, with no precipitation',\n",
       " 95: 'Thunderstorm, heavy, with rain showers and/or snow',\n",
       " 96: 'Thunderstorm, heavy, with hail',\n",
       " 99: 'Tornado'}"
      ]
     },
     "metadata": {},
     "output_type": "display_data"
    },
    {
     "data": {
      "text/plain": [
       "{0: 'Cloud development not observed or not observable',\n",
       " 1: 'Clouds generally dissolving or becoming less developed',\n",
       " 2: 'State of sky on the whole unchanged',\n",
       " 3: 'Clouds generally forming or developing',\n",
       " 4: 'Visibility reduced by smoke, e.g. veldt or forest fires, industrial smoke or volcanic ashes',\n",
       " 5: 'Haze',\n",
       " 6: 'Widespread dust in suspension in the air, not raised by wind at or near the station at the time of observation',\n",
       " 7: 'Dust or sand raised by wind at or near the station at the time of observation, but no well-developed dust whirl(s) sand whirl(s), and no duststorm or sandstorm seen or, in the case of ships, blowing spray at the station',\n",
       " 8: 'Well developed dust whirl(s) or sand whirl(s) seen at or near the station during the preceding hour or at the time of observation, but no duststorm or sandstorm',\n",
       " 9: 'Duststorm or sandstorm within sight at the time of observation, or at the station during the preceding hour',\n",
       " 10: 'Mist',\n",
       " 11: 'Patches of shallow fog or ice fog at the station, whether on land or sea, not deeper than about 2 meters on land or 10 meters at sea',\n",
       " 12: 'More or less continuous shallow fog or ice fog at the station, whether on land or sea, not deeper than about 2 meters on land or 10 meters at sea',\n",
       " 13: 'Lightning visible, no thunder heard',\n",
       " 14: 'Precipitation within sight, not reaching the ground or the surface of the sea',\n",
       " 15: 'Precipitation within sight, reaching the ground or the surface of the sea, but distant, i.e., estimated to be more than 5 km from the station',\n",
       " 16: 'Precipitation within sight, reaching the ground or the surface of the sea, near to, but not at the station',\n",
       " 17: 'Thunderstorm, but no precipitation at the time of observation',\n",
       " 18: 'Squalls at or within sight of the station during the preceding hour or at the time of observation',\n",
       " 19: 'Funnel cloud(s) (Tornado cloud or waterspout) at or within sight of the station during the preceding hour or at the time of observation',\n",
       " 20: 'Drizzle (not freezing) or snow grains not falling as shower(s)',\n",
       " 21: 'Rain (not freezing) not falling as shower(s)',\n",
       " 22: 'Snow not falling as shower(s)',\n",
       " 23: 'Rain and snow or ice pellets not falling as shower(s)',\n",
       " 24: 'Freezing drizzle or freezing rain not falling as shower(s)',\n",
       " 25: 'Shower(s) of rain',\n",
       " 26: 'Shower(s) of snow or of rain and snow',\n",
       " 27: 'Shower(s) of hail (Hail, small hail, snow pellets), or rain and hail',\n",
       " 28: 'Fog or ice fog',\n",
       " 29: 'Thunderstorm (with or without precipitation)',\n",
       " 30: 'Slight or moderate duststorm or sandstorm has decreased during the preceding hour',\n",
       " 31: 'Slight or moderate duststorm or sandstorm no appreciable change during the preceding hour',\n",
       " 32: 'Slight or moderate duststorm or sandstorm has begun or has increased during the preceding hour',\n",
       " 33: 'Severe duststorm or sandstorm has decreased during the preceding hour',\n",
       " 34: 'Severe duststorm or sandstorm no appreciable change during the preceding hour',\n",
       " 35: 'Severe duststorm or sandstorm has begun or has increased during the preceding hour',\n",
       " 36: 'Slight or moderate drifting snow generally low (below eye level)',\n",
       " 37: 'Heavy drifting snow generally low (below eye level)',\n",
       " 38: 'Slight or moderate blowing snow generally high (above eye level)',\n",
       " 39: 'Heavy blowing snow generally high (above eye level)',\n",
       " 40: 'Fog or ice fog at a distance at the time of observation, but not at the station during the preceding hour, the fog or ice fog extending to a level above that of the observer',\n",
       " 41: 'Fog or ice fog in patches',\n",
       " 42: 'Fog or ice fog, sky visible, has become thinner during the preceding hour',\n",
       " 43: 'Fog or ice fog, sky invisible, has become thinner during the preceding hour',\n",
       " 44: 'Fog or ice fog, sky visible, no appreciable change during the preceding hour',\n",
       " 45: 'Fog or ice fog, sky invisible, no appreciable change during the preceding hour',\n",
       " 46: 'Fog or ice fog, sky visible, has begun or has become thicker during the preceding hour',\n",
       " 47: 'Fog or ice fog, sky invisible, has begun or has become thicker during the preceding hour',\n",
       " 48: 'Fog, depositing rime, sky visible',\n",
       " 49: 'Fog, depositing rime, sky invisible',\n",
       " 50: 'Drizzle, not freezing, intermittent, slight at time of observation',\n",
       " 51: 'Drizzle, not freezing, continuous, slight at time of observation',\n",
       " 52: 'Drizzle, not freezing, intermittent, moderate at time of observation',\n",
       " 53: 'Drizzle, not freezing, continuous, moderate at time of observation',\n",
       " 54: 'Drizzle, not freezing, intermittent, heavy (dense) at time of observation',\n",
       " 55: 'Drizzle, not freezing, continuous, heavy (dense) at time of observation',\n",
       " 56: 'Drizzle, freezing, slight',\n",
       " 57: 'Drizzle, freezing, moderate or heavy (dense)',\n",
       " 58: 'Drizzle and rain, slight',\n",
       " 59: 'Drizzle and rain, moderate or heavy',\n",
       " 60: 'Rain, not freezing, intermittent, slight at time of observation',\n",
       " 61: 'Rain, not freezing, continuous, slight at time of observation',\n",
       " 62: 'Rain, not freezing, intermittent, moderate at time of observation',\n",
       " 63: 'Rain, not freezing, continuous, moderate at time of observation',\n",
       " 64: 'Rain, not freezing, intermittent, heavy at time of observation',\n",
       " 65: 'Rain, not freezing, continuous, heavy at time of observation',\n",
       " 66: 'Rain, freezing, slight',\n",
       " 67: 'Rain, freezing, moderate or heavy',\n",
       " 68: 'Rain or drizzle and snow, slight',\n",
       " 69: 'Rain or drizzle and snow, moderate or heavy',\n",
       " 70: 'Intermittent fall of snowflakes, slight at time of observation',\n",
       " 71: 'Continuous fall of snowflakes, slight at time of observation',\n",
       " 72: 'Intermittent fall of snowflakes, moderate at time of observation',\n",
       " 73: 'Continuous fall of snowflakes, moderate at time of observation',\n",
       " 74: 'Intermittent fall of snowflakes, heavy at time of observation',\n",
       " 75: 'Continuous fall of snowflakes, heavy at time of observation',\n",
       " 76: 'Diamond dust (with or without fog)',\n",
       " 77: 'Snow grains (with or without fog)',\n",
       " 78: 'Isolated star-like snow crystals (with or without fog)',\n",
       " 79: 'Ice pellets',\n",
       " 80: 'Rain shower(s), slight',\n",
       " 81: 'Rain shower(s), moderate or heavy',\n",
       " 82: 'Rain shower(s), violent',\n",
       " 83: 'Shower(s) of rain and snow mixed, slight',\n",
       " 84: 'Shower(s) of rain and snow mixed, moderate or heavy',\n",
       " 85: 'Snow shower(s), slight',\n",
       " 86: 'Snow shower(s), moderate or heavy',\n",
       " 87: 'Shower(s) of snow pellets or small hail, with or without rain or rain and snow mixed, slight',\n",
       " 88: 'Shower(s) of snow pellets or small hail, with or without rain or rain and snow mixed, moderate or heavy',\n",
       " 89: 'Shower(s) of hail (hail, small hail, snow pellets), with or without rain or rain and snow mixed, not associated with thunder, slight',\n",
       " 90: 'Shower(s) of hail (hail, small hail, snow pellets), with or without rain or rain and snow mixed, not associated with thunder, moderate or heavy',\n",
       " 91: 'Slight rain at time of observation, thunderstorm during the preceding hour but not at time of observation',\n",
       " 92: 'Moderate or heavy rain at time of observation, thunderstorm during the preceding hour but not at time of observation',\n",
       " 93: 'Slight snow, or rain and snow mixed or hail (Hail, small hail, snow pellets), at time of observation, thunderstorm during the preceding hour but not at time of observation',\n",
       " 94: 'Moderate or heavy snow, or rain and snow mixed or hail(Hail, small hail, snow pellets) at time of observation, thunderstorm during the preceding hour but not at time of observation',\n",
       " 95: 'Thunderstorm, slight or moderate, without hail (Hail, small hail, snow pellets), but with rain and/or snow at time of observation, thunderstorm at time of observation',\n",
       " 96: 'Thunderstorm, slight or moderate, with hail (hail, small hail, snow pellets) at time of observation, thunderstorm at time of observation',\n",
       " 97: 'Thunderstorm, heavy, without hail (Hail, small hail, snow pellets), but with rain and/or snow at time of observation, thunderstorm at time of observation',\n",
       " 98: 'Thunderstorm combined with duststorm or sandstorm at time of observation, thunderstorm at time of observation',\n",
       " 99: 'Thunderstorm, heavy, with hail (Hail, small hail, snow pellets) at time of observation, thunderstorm at time of observation'}"
      ]
     },
     "metadata": {},
     "output_type": "display_data"
    }
   ],
   "source": [
    "# def simple_observed_atmo_condition(code):\n",
    "#     0: 'Cloud development not observed or not observable',\n",
    "# \t1: 'Clouds generally dissolving or becoming less developed',\n",
    "# \t2: 'State of sky on the whole unchanged',\n",
    "# \t3: 'Clouds generally forming or developing',\n",
    "\n",
    "\n",
    "display(dcm)\n",
    "display(pcm)\n",
    "display(ocm)\n",
    "display(opcm)\n",
    "display(wacm)\n",
    "display(oacm)"
   ]
  },
  {
   "cell_type": "code",
   "execution_count": 96,
   "id": "6a842800",
   "metadata": {
    "ExecuteTime": {
     "end_time": "2022-06-06T22:20:11.809658Z",
     "start_time": "2022-06-06T22:20:10.040658Z"
    }
   },
   "outputs": [
    {
     "data": {
      "text/plain": [
       "sky unchanged                       1163790\n",
       "fog                                  210322\n",
       "mist                                 169109\n",
       "haze, smoke, or dust                 146717\n",
       "rain                                 130059\n",
       "thunderstorm                          21560\n",
       "wintry mix, snow, or ice pellets      19396\n",
       "drizzle                                5488\n",
       "getting cloudy                         5150\n",
       "clouds clearing                        4979\n",
       "precipitation                           129\n",
       "distant lightning                       127\n",
       "squalls                                  86\n",
       "tornado                                   4\n",
       "hail                                      3\n",
       "Name: observed_atmospheric_condition, dtype: int64"
      ]
     },
     "metadata": {},
     "output_type": "display_data"
    },
    {
     "data": {
      "text/plain": [
       "([<matplotlib.patches.Wedge at 0x7fe0d6c69f00>,\n",
       "  <matplotlib.patches.Wedge at 0x7fe04bd8b220>,\n",
       "  <matplotlib.patches.Wedge at 0x7fe0c49ef850>,\n",
       "  <matplotlib.patches.Wedge at 0x7fe0d6c698a0>,\n",
       "  <matplotlib.patches.Wedge at 0x7fe0d6c6bc70>,\n",
       "  <matplotlib.patches.Wedge at 0x7fe0d6c68940>,\n",
       "  <matplotlib.patches.Wedge at 0x7fe0d6c68880>,\n",
       "  <matplotlib.patches.Wedge at 0x7fe0d6c6a680>,\n",
       "  <matplotlib.patches.Wedge at 0x7fe0b21d0970>,\n",
       "  <matplotlib.patches.Wedge at 0x7fe0b21d09a0>,\n",
       "  <matplotlib.patches.Wedge at 0x7fe0d6c693f0>,\n",
       "  <matplotlib.patches.Wedge at 0x7fe0bc983130>,\n",
       "  <matplotlib.patches.Wedge at 0x7fe0ad5863e0>,\n",
       "  <matplotlib.patches.Wedge at 0x7fe0b2221900>,\n",
       "  <matplotlib.patches.Wedge at 0x7fe08e973a60>],\n",
       " [Text(-0.4051086143909968, 1.0226861740271092, 'SKY UNCHANGED'),\n",
       "  Text(-0.49271530712361034, -0.9834793470765345, 'FOG'),\n",
       "  Text(0.18680721957320817, -1.0840217076771699, 'MIST'),\n",
       "  Text(0.7080354805081889, -0.8418347571474691, 'HAZE, SMOKE, OR DUST'),\n",
       "  Text(1.0096006478613124, -0.43669958992197183, 'RAIN'),\n",
       "  Text(1.086903352847498, -0.16923682096065082, 'THUNDERSTORM'),\n",
       "  Text(1.0959429328418402, -0.09438796509103348, 'WINTRY MIX, SNOW, OR ICE PELLETS'),\n",
       "  Text(1.0989226585770728, -0.04867227615284391, 'DRIZZLE'),\n",
       "  Text(1.0996150647821867, -0.029098269777897805, 'GETTING CLOUDY'),\n",
       "  Text(1.0999503408437268, -0.010452161392239201, 'CLOUDS CLEARING'),\n",
       "  Text(1.0999995011956787, -0.0010475539404923406, 'PRECIPITATION'),\n",
       "  Text(1.0999998490821357, -0.0005762111408706474, 'DISTANT LIGHTNING'),\n",
       "  Text(1.0999999846043662, -0.000184039110823963, 'SQUALLS'),\n",
       "  Text(1.0999999998472343, -1.8332614055036904e-05, 'TORNADO'),\n",
       "  Text(1.099999999986527, -5.444331063733825e-06, 'HAIL')])"
      ]
     },
     "execution_count": 96,
     "metadata": {},
     "output_type": "execute_result"
    },
    {
     "data": {
      "image/png": "[encoded data removed]",
      "text/plain": [
       "<Figure size 1800x1440 with 1 Axes>"
      ]
     },
     "metadata": {},
     "output_type": "display_data"
    }
   ],
   "source": [
    "# obsv = df['observed_atmospheric_condition'].apply(lambda x: oacm[x] if x in oacm.keys() else x)\n",
    "obsv = df['observed_atmospheric_condition'].apply(lambda x: oacmr[x] if x in oacmr.keys() else x)\n",
    "obsv_counts = obsv[obsv.notna()].value_counts()\n",
    "display(obsv_counts)\n",
    "plt.pie(obsv_counts, labels=obsv_counts.index.str.upper(), shadow=True)"
   ]
  },
  {
   "cell_type": "code",
   "execution_count": 65,
   "id": "bcc2d155",
   "metadata": {
    "ExecuteTime": {
     "end_time": "2022-06-06T20:41:54.038790Z",
     "start_time": "2022-06-06T20:41:52.652268Z"
    }
   },
   "outputs": [
    {
     "data": {
      "text/plain": [
       "mist                                195191\n",
       "rain                                 50070\n",
       "fog                                  18297\n",
       "wintry mix, snow, or ice pellets      6402\n",
       "haze, smoke, or dust                  6290\n",
       "thunderstorm                          5637\n",
       "distant lightning                     5401\n",
       "drizzle                                978\n",
       "precipitation                          513\n",
       "squalls                                180\n",
       "27.0                                    18\n",
       "17.0                                     6\n",
       "hail                                     3\n",
       "tornado                                  1\n",
       "no significant weather                   1\n",
       "Name: weather_atmospheric_condition, dtype: int64"
      ]
     },
     "metadata": {},
     "output_type": "display_data"
    },
    {
     "data": {
      "text/plain": [
       "([<matplotlib.patches.Wedge at 0x7fe0463a0c40>,\n",
       "  <matplotlib.patches.Wedge at 0x7fe0463a1930>,\n",
       "  <matplotlib.patches.Wedge at 0x7fe0463a2e30>,\n",
       "  <matplotlib.patches.Wedge at 0x7fe0463a0940>,\n",
       "  <matplotlib.patches.Wedge at 0x7fe0522ea170>,\n",
       "  <matplotlib.patches.Wedge at 0x7fe0522e8d60>,\n",
       "  <matplotlib.patches.Wedge at 0x7fe0522eae30>,\n",
       "  <matplotlib.patches.Wedge at 0x7fe0522e9f60>,\n",
       "  <matplotlib.patches.Wedge at 0x7fe0adf14d30>,\n",
       "  <matplotlib.patches.Wedge at 0x7fe0adf16290>,\n",
       "  <matplotlib.patches.Wedge at 0x7fe0463a0970>,\n",
       "  <matplotlib.patches.Wedge at 0x7fe0463b89d0>,\n",
       "  <matplotlib.patches.Wedge at 0x7fe0463b8b20>,\n",
       "  <matplotlib.patches.Wedge at 0x7fe0463b9960>,\n",
       "  <matplotlib.patches.Wedge at 0x7fe0463b9510>],\n",
       " [Text(-0.5760131416067084, 0.9371279852274023, 'MIST'),\n",
       "  Text(0.08326817590864075, -1.0968438406996903, 'RAIN'),\n",
       "  Text(0.803501662453438, -0.7512556678219218, 'FOG'),\n",
       "  Text(0.9740109757896245, -0.511177678543717, 'WINTRY MIX, SNOW, OR ICE PELLETS'),\n",
       "  Text(1.0350606427320863, -0.372356638005878, 'HAZE, SMOKE, OR DUST'),\n",
       "  Text(1.0745165178316325, -0.23540232137127165, 'THUNDERSTORM'),\n",
       "  Text(1.094969205773966, -0.10508300722157785, 'DISTANT LIGHTNING'),\n",
       "  Text(1.0996187325512383, -0.028959333942763787, 'DRIZZLE'),\n",
       "  Text(1.0999436611295796, -0.011132939452667311, 'PRECIPITATION'),\n",
       "  Text(1.0999963179108443, -0.0028461522421008444, 'SQUALLS'),\n",
       "  Text(1.0999998959486537, -0.000478448483358099, 'nan'),\n",
       "  Text(1.09999998333885, -0.0001914537275639179, 'nan'),\n",
       "  Text(1.0999999968056433, -8.383069208960587e-05, 'HAIL'),\n",
       "  Text(1.099999999410967, -3.5998231035766605e-05, 'TORNADO'),\n",
       "  Text(1.099999999933648, -1.2081999692652293e-05, 'NO SIGNIFICANT WEATHER')])"
      ]
     },
     "execution_count": 65,
     "metadata": {},
     "output_type": "execute_result"
    },
    {
     "data": {
      "image/png": "[encoded data removed]",
      "text/plain": [
       "<Figure size 1800x1440 with 1 Axes>"
      ]
     },
     "metadata": {},
     "output_type": "display_data"
    }
   ],
   "source": [
    "wthac = df['weather_atmospheric_condition'].apply(lambda x: wacmr[x] if x in wacmr.keys() else x) \n",
    "wthac_counts = wthac[wthac.notna()].value_counts()\n",
    "display(wthac_counts)\n",
    "\n",
    "plt.pie(wthac_counts, labels=wthac_counts.index.str.upper(), shadow=True)"
   ]
  },
  {
   "cell_type": "code",
   "execution_count": 40,
   "id": "14a29ce6",
   "metadata": {
    "ExecuteTime": {
     "end_time": "2022-06-06T16:40:29.140251Z",
     "start_time": "2022-06-06T16:40:28.129421Z"
    }
   },
   "outputs": [
    {
     "data": {
      "text/plain": [
       "No Obscuration     163209\n",
       "Mist                96481\n",
       "Fog                 17230\n",
       "Haze                12322\n",
       "Smoke                  70\n",
       "Widespread Dust         2\n",
       "Volcanic Ash            2\n",
       "Name: obscuration_code, dtype: int64"
      ]
     },
     "metadata": {},
     "output_type": "display_data"
    },
    {
     "data": {
      "text/plain": [
       "([<matplotlib.patches.Wedge at 0x7fe049db1f60>,\n",
       "  <matplotlib.patches.Wedge at 0x7fe049db2fb0>,\n",
       "  <matplotlib.patches.Wedge at 0x7fe049db1180>,\n",
       "  <matplotlib.patches.Wedge at 0x7fe049db0bb0>,\n",
       "  <matplotlib.patches.Wedge at 0x7fe049db11e0>,\n",
       "  <matplotlib.patches.Wedge at 0x7fe0d6c29ed0>,\n",
       "  <matplotlib.patches.Wedge at 0x7fe0d6c29c90>],\n",
       " [Text(-0.22008788655733794, 1.0777575433235085, 'NO OBSCURATION'),\n",
       "  Text(-0.13196758404022477, -1.0920551985877758, 'MIST'),\n",
       "  Text(0.9874558763678364, -0.48469670127475434, 'FOG'),\n",
       "  Text(1.0899309535790076, -0.1484941629504509, 'HAZE'),\n",
       "  Text(1.0999996052116172, -0.0009319518691920998, 'SMOKE'),\n",
       "  Text(1.0999999976473165, -7.19437572670275e-05, 'WIDESPREAD DUST'),\n",
       "  Text(1.099999999734558, -2.4165523732224527e-05, 'VOLCANIC ASH')])"
      ]
     },
     "execution_count": 40,
     "metadata": {},
     "output_type": "execute_result"
    },
    {
     "data": {
      "image/png": "[encoded data removed]",
      "text/plain": [
       "<Figure size 1800x1440 with 1 Axes>"
      ]
     },
     "metadata": {},
     "output_type": "display_data"
    }
   ],
   "source": [
    "obsc = df['obscuration_code'].apply(lambda x: ocm[x] if x in ocm.keys() else x)\n",
    "obsc_counts = obsc[obsc.notna()].value_counts()\n",
    "\n",
    "display(obsc_counts)\n",
    "plt.pie(obsc_counts, labels=obsc_counts.index.str.upper(), shadow=True)"
   ]
  },
  {
   "cell_type": "code",
   "execution_count": 39,
   "id": "1e4c2ff2",
   "metadata": {
    "ExecuteTime": {
     "end_time": "2022-06-06T16:39:02.637775Z",
     "start_time": "2022-06-06T16:39:01.618275Z"
    }
   },
   "outputs": [
    {
     "data": {
      "text/plain": [
       "None Reported                        289287\n",
       "Squalls                                  24\n",
       "Funnel Cloud, Tornado, Waterspout         4\n",
       "Duststorm                                 1\n",
       "Name: other_phenomena_code, dtype: int64"
      ]
     },
     "metadata": {},
     "output_type": "display_data"
    },
    {
     "data": {
      "text/plain": [
       "([<matplotlib.patches.Wedge at 0x7fe0c34d2ef0>,\n",
       "  <matplotlib.patches.Wedge at 0x7fe0c34d3640>,\n",
       "  <matplotlib.patches.Wedge at 0x7fe0c34d3d60>,\n",
       "  <matplotlib.patches.Wedge at 0x7fe0c34d22c0>],\n",
       " [Text(-1.0999999454399674, 0.00034645644614537393, 'NONE REPORTED'),\n",
       "  Text(1.099999924984645, -0.0004062434930092695, 'SQUALLS'),\n",
       "  Text(1.099999997656979, -7.17958671068697e-05, 'FUNNEL CLOUD, TORNADO, WATERSPOUT'),\n",
       "  Text(1.099999999933746, -1.2073075177659153e-05, 'DUSTSTORM')])"
      ]
     },
     "execution_count": 39,
     "metadata": {},
     "output_type": "execute_result"
    },
    {
     "data": {
      "image/png": "[encoded data removed]",
      "text/plain": [
       "<Figure size 1800x1440 with 1 Axes>"
      ]
     },
     "metadata": {},
     "output_type": "display_data"
    }
   ],
   "source": [
    "othphenom = df['other_phenomena_code'].apply(lambda x: opcm[x] if x in opcm.keys() else x)\n",
    "opc_counts = othphenom[othphenom.notna()].value_counts()\n",
    "display(opc_counts)\n",
    "\n",
    "plt.pie(opc_counts, labels=opc_counts.index.str.upper(), shadow=True)"
   ]
  },
  {
   "cell_type": "code",
   "execution_count": 30,
   "id": "98847f6d",
   "metadata": {
    "ExecuteTime": {
     "end_time": "2022-06-06T16:32:16.030600Z",
     "start_time": "2022-06-06T16:32:14.768297Z"
    }
   },
   "outputs": [
    {
     "data": {
      "text/plain": [
       "289316"
      ]
     },
     "metadata": {},
     "output_type": "display_data"
    },
    {
     "data": {
      "text/plain": [
       "([<matplotlib.patches.Wedge at 0x7fe08b28c070>,\n",
       "  <matplotlib.patches.Wedge at 0x7fe08b28c730>,\n",
       "  <matplotlib.patches.Wedge at 0x7fe08b28d6f0>,\n",
       "  <matplotlib.patches.Wedge at 0x7fe08b28ead0>,\n",
       "  <matplotlib.patches.Wedge at 0x7fe08b28d000>,\n",
       "  <matplotlib.patches.Wedge at 0x7fe08b28d1e0>,\n",
       "  <matplotlib.patches.Wedge at 0x7fe08b28c370>,\n",
       "  <matplotlib.patches.Wedge at 0x7fe08b28f910>],\n",
       " [Text(-0.18030992492902492, 1.085121343892972, 'NO PRECIPITATION'),\n",
       "  Text(-0.037355322754708195, -1.0993655351437446, 'RAIN'),\n",
       "  Text(1.0649086105380687, -0.2756259262150062, 'SNOW'),\n",
       "  Text(1.0973373038087166, -0.07649079467371378, 'DRIZZLE'),\n",
       "  Text(1.0998289694425316, -0.019396854770278922, 'UNKNOWN PRECIPITATION'),\n",
       "  Text(1.0999955146090534, -0.0031413118221456154, 'ICE PELLETS'),\n",
       "  Text(1.0999999790083423, -0.0002148991546167005, 'SMALL HAIL AND/OR SNOW PELLETS'),\n",
       "  Text(1.0999999997428256, -2.37862153612023e-05, 'HAIL')])"
      ]
     },
     "execution_count": 30,
     "metadata": {},
     "output_type": "execute_result"
    },
    {
     "data": {
      "image/png": "[encoded data removed]",
      "text/plain": [
       "<Figure size 1800x1440 with 1 Axes>"
      ]
     },
     "metadata": {},
     "output_type": "display_data"
    }
   ],
   "source": [
    "precip_code = df['precipitation_code'].apply(lambda x: pcm[x] if x in pcm.keys() else x)\n",
    "display(len(list(precip_code[precip_code.notna()])))\n",
    "pc_counts = precip_code[precip_code.notna()].value_counts()\n",
    "\n",
    "plt.pie(pc_counts, labels=pc_counts.index.str.upper(), shadow=True)"
   ]
  },
  {
   "cell_type": "code",
   "execution_count": 37,
   "id": "13699cbd",
   "metadata": {
    "ExecuteTime": {
     "end_time": "2022-06-06T16:37:05.992326Z",
     "start_time": "2022-06-06T16:37:05.013684Z"
    }
   },
   "outputs": [
    {
     "data": {
      "text/plain": [
       "No descriptor    249428\n",
       "Thunderstorm      33667\n",
       "Patches            2938\n",
       "Freezing           2563\n",
       "Shallow             714\n",
       "Blowing               6\n",
       "Name: descriptor_code, dtype: int64"
      ]
     },
     "metadata": {},
     "output_type": "display_data"
    },
    {
     "data": {
      "text/plain": [
       "([<matplotlib.patches.Wedge at 0x7fe0d6c1c5e0>,\n",
       "  <matplotlib.patches.Wedge at 0x7fe0d6c24f70>,\n",
       "  <matplotlib.patches.Wedge at 0x7fe0d6c1f2e0>,\n",
       "  <matplotlib.patches.Wedge at 0x7fe0d6c17730>,\n",
       "  <matplotlib.patches.Wedge at 0x7fe0d6c16f20>,\n",
       "  <matplotlib.patches.Wedge at 0x7fe0d6c17bb0>],\n",
       " [Text(-0.9984214864162957, 0.46168662040639097, 'NO DESCRIPTOR'),\n",
       "  Text(0.9649802220020491, -0.5280276234676327, 'THUNDERSTORM'),\n",
       "  Text(1.0941474512703833, -0.11331970207569624, 'PATCHES'),\n",
       "  Text(1.0989609877607818, -0.04779903116012642, 'FREEZING'),\n",
       "  Text(1.0999658185700665, -0.008671676740033486, 'SHALLOW'),\n",
       "  Text(1.0999999976642563, -7.16842847450902e-05, 'BLOWING')])"
      ]
     },
     "execution_count": 37,
     "metadata": {},
     "output_type": "execute_result"
    },
    {
     "data": {
      "image/png": "[encoded data removed]",
      "text/plain": [
       "<Figure size 1800x1440 with 1 Axes>"
      ]
     },
     "metadata": {},
     "output_type": "display_data"
    }
   ],
   "source": [
    "descriptor = df['descriptor_code'].apply(lambda x: descriptor_code_map[x] if x in descriptor_code_map.keys() else x)\n",
    "dc_counts = descriptor[descriptor.notna()].value_counts()\n",
    "display(dc_counts)\n",
    "\n",
    "plt.pie(dc_counts, labels=dc_counts.index.str.upper(), shadow=True)"
   ]
  },
  {
   "cell_type": "code",
   "execution_count": 121,
   "id": "d681e8d8",
   "metadata": {
    "ExecuteTime": {
     "end_time": "2022-06-07T16:12:48.231250Z",
     "start_time": "2022-06-07T16:12:43.810810Z"
    }
   },
   "outputs": [
    {
     "data": {
      "text/plain": [
       "station                                 0\n",
       "latitude                                0\n",
       "longitude                               0\n",
       "elevation                               0\n",
       "year                                    0\n",
       "month                                   0\n",
       "day                                     0\n",
       "hour                                    0\n",
       "minute                                  0\n",
       "sky_ceiling                             0\n",
       "sky_ceiling_determination_code          0\n",
       "visibility_variable                     0\n",
       "dew_point_temperature              475550\n",
       "air_temperature                    473290\n",
       "wind_direction                    1122402\n",
       "wind_type                               0\n",
       "wind_speed                         401206\n",
       "precipitation_period              1231568\n",
       "precipitation_depth               1229509\n",
       "precipitation_condition           3405801\n",
       "proximity_intensity               3287687\n",
       "descriptor_code                   3287687\n",
       "precipitation_code                3287687\n",
       "obscuration_code                  3287687\n",
       "other_phenomena_code              3287687\n",
       "combination_indicator             3287687\n",
       "weather_atmospheric_condition     3288015\n",
       "sky_coverage                      2354541\n",
       "sky_coverage_height               2248700\n",
       "sky_cloud_type                    3152020\n",
       "observed_atmospheric_condition    1700084\n",
       "humidity_period_quantity          3542313\n",
       "humidity_code                     3542313\n",
       "humidity_percentage               3542313\n",
       "humidity_derived_code             3542313\n",
       "date                                    0\n",
       "region                                  0\n",
       "sky_ceiling_cavok                       0\n",
       "visibility                              0\n",
       "saturated_vapor_pressure           473290\n",
       "actual_vapor_pressure              475550\n",
       "calculated_humidity                475694\n",
       "short_station_id                        0\n",
       "station_date                            0\n",
       "station_year                            0\n",
       "repl_precipitation_depth          2936218\n",
       "combined_precipitation_depth       588724\n",
       "dtype: int64"
      ]
     },
     "execution_count": 121,
     "metadata": {},
     "output_type": "execute_result"
    }
   ],
   "source": [
    "isd.isna().sum()"
   ]
  },
  {
   "cell_type": "code",
   "execution_count": 98,
   "id": "cac68a16",
   "metadata": {
    "ExecuteTime": {
     "end_time": "2022-06-06T22:36:21.052179Z",
     "start_time": "2022-06-06T22:36:19.500964Z"
    }
   },
   "outputs": [
    {
     "data": {
      "text/plain": [
       "year                              0\n",
       "month                             0\n",
       "day                               0\n",
       "hour                              0\n",
       "sea_level_pressure           362121\n",
       "wind_direction               517420\n",
       "wind_speed                     2235\n",
       "sky_coverage                 493018\n",
       "precipitation_depth          800717\n",
       "station                           0\n",
       "date                              0\n",
       "region                            0\n",
       "air_temperature                1619\n",
       "dew_point_temperature        319548\n",
       "saturated_vapor_pressure       1619\n",
       "actual_vapor_pressure        319548\n",
       "calculated_humidity          319626\n",
       "short_station_id                  0\n",
       "elevation                    298252\n",
       "latitude                     298252\n",
       "longitude                    298252\n",
       "station_date                      0\n",
       "station_year                      0\n",
       "repl_precipitation_depth    3572751\n",
       "dtype: int64"
      ]
     },
     "execution_count": 98,
     "metadata": {},
     "output_type": "execute_result"
    }
   ],
   "source": [
    "isdlite.isna().sum()"
   ]
  },
  {
   "cell_type": "code",
   "execution_count": 109,
   "id": "dd1522a9",
   "metadata": {
    "ExecuteTime": {
     "end_time": "2022-06-06T22:49:38.725416Z",
     "start_time": "2022-06-06T22:49:38.251607Z"
    }
   },
   "outputs": [],
   "source": [
    "df = isdlite.drop(columns=['date', 'station', 'short_station_id', 'station_date', 'station_year'])"
   ]
  },
  {
   "cell_type": "code",
   "execution_count": 110,
   "id": "87c0968e",
   "metadata": {
    "ExecuteTime": {
     "end_time": "2022-06-06T22:50:25.180978Z",
     "start_time": "2022-06-06T22:49:43.855642Z"
    }
   },
   "outputs": [],
   "source": [
    "df['combined_precipitation_depth'] = df.apply(\n",
    "    lambda x: x['repl_precipitation_depth'] if np.isnan(x['precipitation_depth']) else x['precipitation_depth'],\n",
    "    axis=1\n",
    ")"
   ]
  },
  {
   "cell_type": "code",
   "execution_count": 116,
   "id": "e724d6eb",
   "metadata": {
    "ExecuteTime": {
     "end_time": "2022-06-06T22:54:30.448675Z",
     "start_time": "2022-06-06T22:54:29.920372Z"
    }
   },
   "outputs": [
    {
     "data": {
      "text/plain": [
       "year                             0\n",
       "month                            0\n",
       "day                              0\n",
       "hour                             0\n",
       "sea_level_pressure          362121\n",
       "wind_direction              517420\n",
       "wind_speed                    2235\n",
       "sky_coverage                493018\n",
       "precipitation_depth         739678\n",
       "region                           0\n",
       "air_temperature               1619\n",
       "dew_point_temperature       319548\n",
       "saturated_vapor_pressure      1619\n",
       "actual_vapor_pressure       319548\n",
       "calculated_humidity         319626\n",
       "elevation                   298252\n",
       "latitude                    298252\n",
       "longitude                   298252\n",
       "humidity                    319626\n",
       "dtype: int64"
      ]
     },
     "execution_count": 116,
     "metadata": {},
     "output_type": "execute_result"
    }
   ],
   "source": [
    "# df['precipitation_depth'] = df['combined_precipitation_depth']\n",
    "# df['humidity'] = df['calculated_humidity']\n",
    "# df.drop(columns=['humidity_percentage'], inplace=True)\n",
    "df.drop().isna().sum()"
   ]
  },
  {
   "cell_type": "code",
   "execution_count": 120,
   "id": "9b9bbc37",
   "metadata": {
    "ExecuteTime": {
     "end_time": "2022-06-06T23:36:31.257950Z",
     "start_time": "2022-06-06T23:36:30.409920Z"
    }
   },
   "outputs": [],
   "source": [
    "save_feathers(df, 'week4_lite')"
   ]
  },
  {
   "cell_type": "code",
   "execution_count": 118,
   "id": "306a3458",
   "metadata": {
    "ExecuteTime": {
     "end_time": "2022-06-06T23:31:35.695204Z",
     "start_time": "2022-06-06T23:31:35.641385Z"
    }
   },
   "outputs": [
    {
     "name": "stdout",
     "output_type": "stream",
     "text": [
      "<class 'pandas.core.frame.DataFrame'>\n",
      "RangeIndex: 3633790 entries, 0 to 3633789\n",
      "Data columns (total 19 columns):\n",
      " #   Column                    Dtype  \n",
      "---  ------                    -----  \n",
      " 0   year                      int64  \n",
      " 1   month                     int64  \n",
      " 2   day                       int64  \n",
      " 3   hour                      int64  \n",
      " 4   sea_level_pressure        float64\n",
      " 5   wind_direction            float64\n",
      " 6   wind_speed                float64\n",
      " 7   sky_coverage              float64\n",
      " 8   precipitation_depth       float64\n",
      " 9   region                    object \n",
      " 10  air_temperature           float64\n",
      " 11  dew_point_temperature     float64\n",
      " 12  saturated_vapor_pressure  float64\n",
      " 13  actual_vapor_pressure     float64\n",
      " 14  calculated_humidity       float64\n",
      " 15  elevation                 float64\n",
      " 16  latitude                  float64\n",
      " 17  longitude                 float64\n",
      " 18  humidity                  float64\n",
      "dtypes: float64(14), int64(4), object(1)\n",
      "memory usage: 526.7+ MB\n"
     ]
    }
   ],
   "source": [
    "df.info()"
   ]
  },
  {
   "cell_type": "markdown",
   "id": "c745de6f",
   "metadata": {},
   "source": [
    "# Week 4 -- Pipeline & Initial Model"
   ]
  },
  {
   "cell_type": "code",
   "execution_count": 127,
   "id": "189a326d",
   "metadata": {
    "ExecuteTime": {
     "end_time": "2022-06-07T16:38:25.132771Z",
     "start_time": "2022-06-07T16:38:24.383726Z"
    }
   },
   "outputs": [
    {
     "name": "stdout",
     "output_type": "stream",
     "text": [
      "<class 'pandas.core.frame.DataFrame'>\n",
      "Int64Index: 2894112 entries, 2943 to 3633789\n",
      "Data columns (total 19 columns):\n",
      " #   Column                    Dtype  \n",
      "---  ------                    -----  \n",
      " 0   year                      int64  \n",
      " 1   month                     int64  \n",
      " 2   day                       int64  \n",
      " 3   hour                      int64  \n",
      " 4   sea_level_pressure        float64\n",
      " 5   wind_direction            float64\n",
      " 6   wind_speed                float64\n",
      " 7   sky_coverage              float64\n",
      " 8   precipitation_depth       float64\n",
      " 9   region                    object \n",
      " 10  air_temperature           float64\n",
      " 11  dew_point_temperature     float64\n",
      " 12  saturated_vapor_pressure  float64\n",
      " 13  actual_vapor_pressure     float64\n",
      " 14  calculated_humidity       float64\n",
      " 15  elevation                 float64\n",
      " 16  latitude                  float64\n",
      " 17  longitude                 float64\n",
      " 18  humidity                  float64\n",
      "dtypes: float64(14), int64(4), object(1)\n",
      "memory usage: 441.6+ MB\n"
     ]
    }
   ],
   "source": [
    "weather = df.dropna(subset=['precipitation_depth'])\n",
    "weather.info()"
   ]
  },
  {
   "cell_type": "code",
   "execution_count": 130,
   "id": "75ed4e24",
   "metadata": {
    "ExecuteTime": {
     "end_time": "2022-06-07T16:49:23.744429Z",
     "start_time": "2022-06-07T16:49:23.737354Z"
    }
   },
   "outputs": [
    {
     "name": "stdout",
     "output_type": "stream",
     "text": [
      "<class 'pandas.core.frame.DataFrame'>\n",
      "Int64Index: 2894112 entries, 2943 to 3633789\n",
      "Data columns (total 19 columns):\n",
      " #   Column                    Dtype  \n",
      "---  ------                    -----  \n",
      " 0   year                      int64  \n",
      " 1   month                     int64  \n",
      " 2   day                       int64  \n",
      " 3   hour                      int64  \n",
      " 4   sea_level_pressure        float64\n",
      " 5   wind_direction            float64\n",
      " 6   wind_speed                float64\n",
      " 7   sky_coverage              float64\n",
      " 8   region                    object \n",
      " 9   air_temperature           float64\n",
      " 10  dew_point_temperature     float64\n",
      " 11  saturated_vapor_pressure  float64\n",
      " 12  actual_vapor_pressure     float64\n",
      " 13  calculated_humidity       float64\n",
      " 14  elevation                 float64\n",
      " 15  latitude                  float64\n",
      " 16  longitude                 float64\n",
      " 17  humidity                  float64\n",
      " 18  precipitation             object \n",
      "dtypes: float64(13), int64(4), object(2)\n",
      "memory usage: 441.6+ MB\n"
     ]
    }
   ],
   "source": [
    "weather['precipitation'] = weather['precipitation_depth'].apply(\n",
    "    lambda x: 'yes' if x > 0 else 'no'\n",
    ")\n",
    "\n",
    "weather.drop(columns=['precipitation_depth', 'calculated_humidity'], inplace=True)\n",
    "weather.info()"
   ]
  },
  {
   "cell_type": "markdown",
   "id": "6f2524b4",
   "metadata": {},
   "source": [
    "## Train/Test Split"
   ]
  },
  {
   "cell_type": "code",
   "execution_count": 131,
   "id": "99d67275",
   "metadata": {
    "ExecuteTime": {
     "end_time": "2022-06-07T16:51:47.866897Z",
     "start_time": "2022-06-07T16:51:44.034557Z"
    }
   },
   "outputs": [],
   "source": [
    "class_column = 'precipitation'\n",
    "random_seed = 2435\n",
    "\n",
    "X_train, X_test, y_train, y_test = train_test_split(weather.drop(columns=class_column), weather[class_column],\n",
    "                                                   test_size=0.25, random_state=random_seed, stratify=weather[class_column])"
   ]
  },
  {
   "cell_type": "code",
   "execution_count": 132,
   "id": "925f9542",
   "metadata": {
    "ExecuteTime": {
     "end_time": "2022-06-07T16:52:03.093419Z",
     "start_time": "2022-06-07T16:52:03.063348Z"
    }
   },
   "outputs": [
    {
     "name": "stdout",
     "output_type": "stream",
     "text": [
      "On X train: \n",
      "X train dimensions:  (2170584, 18)\n"
     ]
    },
    {
     "data": {
      "text/html": [
       "<div>\n",
       "<style scoped>\n",
       "    .dataframe tbody tr th:only-of-type {\n",
       "        vertical-align: middle;\n",
       "    }\n",
       "\n",
       "    .dataframe tbody tr th {\n",
       "        vertical-align: top;\n",
       "    }\n",
       "\n",
       "    .dataframe thead th {\n",
       "        text-align: right;\n",
       "    }\n",
       "</style>\n",
       "<table border=\"1\" class=\"dataframe\">\n",
       "  <thead>\n",
       "    <tr style=\"text-align: right;\">\n",
       "      <th></th>\n",
       "      <th>year</th>\n",
       "      <th>month</th>\n",
       "      <th>day</th>\n",
       "      <th>hour</th>\n",
       "      <th>sea_level_pressure</th>\n",
       "      <th>wind_direction</th>\n",
       "      <th>wind_speed</th>\n",
       "      <th>sky_coverage</th>\n",
       "      <th>region</th>\n",
       "      <th>air_temperature</th>\n",
       "      <th>dew_point_temperature</th>\n",
       "      <th>saturated_vapor_pressure</th>\n",
       "      <th>actual_vapor_pressure</th>\n",
       "      <th>calculated_humidity</th>\n",
       "      <th>elevation</th>\n",
       "      <th>latitude</th>\n",
       "      <th>longitude</th>\n",
       "      <th>humidity</th>\n",
       "    </tr>\n",
       "  </thead>\n",
       "  <tbody>\n",
       "    <tr>\n",
       "      <th>2679111</th>\n",
       "      <td>2014</td>\n",
       "      <td>9</td>\n",
       "      <td>27</td>\n",
       "      <td>13</td>\n",
       "      <td>10219.0</td>\n",
       "      <td>70.0</td>\n",
       "      <td>15.0</td>\n",
       "      <td>0.0</td>\n",
       "      <td>bowling green</td>\n",
       "      <td>16.7</td>\n",
       "      <td>13.9</td>\n",
       "      <td>3.105580</td>\n",
       "      <td>2.594727</td>\n",
       "      <td>0.835505</td>\n",
       "      <td>159.3</td>\n",
       "      <td>36.96467</td>\n",
       "      <td>-86.42379</td>\n",
       "      <td>0.835505</td>\n",
       "    </tr>\n",
       "    <tr>\n",
       "      <th>2998968</th>\n",
       "      <td>2016</td>\n",
       "      <td>10</td>\n",
       "      <td>27</td>\n",
       "      <td>5</td>\n",
       "      <td>NaN</td>\n",
       "      <td>NaN</td>\n",
       "      <td>99.0</td>\n",
       "      <td>NaN</td>\n",
       "      <td>jackson</td>\n",
       "      <td>99.9</td>\n",
       "      <td>99.9</td>\n",
       "      <td>169.735883</td>\n",
       "      <td>169.735883</td>\n",
       "      <td>1.000000</td>\n",
       "      <td>129.2</td>\n",
       "      <td>35.59332</td>\n",
       "      <td>-88.91696</td>\n",
       "      <td>1.000000</td>\n",
       "    </tr>\n",
       "    <tr>\n",
       "      <th>2447383</th>\n",
       "      <td>1954</td>\n",
       "      <td>9</td>\n",
       "      <td>23</td>\n",
       "      <td>9</td>\n",
       "      <td>10198.0</td>\n",
       "      <td>45.0</td>\n",
       "      <td>21.0</td>\n",
       "      <td>0.0</td>\n",
       "      <td>knoxville</td>\n",
       "      <td>12.2</td>\n",
       "      <td>8.9</td>\n",
       "      <td>2.322031</td>\n",
       "      <td>1.863802</td>\n",
       "      <td>0.802660</td>\n",
       "      <td>295.8</td>\n",
       "      <td>35.81801</td>\n",
       "      <td>-83.98573</td>\n",
       "      <td>0.802660</td>\n",
       "    </tr>\n",
       "    <tr>\n",
       "      <th>3272324</th>\n",
       "      <td>2012</td>\n",
       "      <td>11</td>\n",
       "      <td>13</td>\n",
       "      <td>7</td>\n",
       "      <td>NaN</td>\n",
       "      <td>NaN</td>\n",
       "      <td>1.0</td>\n",
       "      <td>NaN</td>\n",
       "      <td>knoxville</td>\n",
       "      <td>-1.9</td>\n",
       "      <td>NaN</td>\n",
       "      <td>0.870340</td>\n",
       "      <td>NaN</td>\n",
       "      <td>NaN</td>\n",
       "      <td>NaN</td>\n",
       "      <td>NaN</td>\n",
       "      <td>NaN</td>\n",
       "      <td>NaN</td>\n",
       "    </tr>\n",
       "    <tr>\n",
       "      <th>2610965</th>\n",
       "      <td>2001</td>\n",
       "      <td>9</td>\n",
       "      <td>5</td>\n",
       "      <td>21</td>\n",
       "      <td>10167.0</td>\n",
       "      <td>40.0</td>\n",
       "      <td>26.0</td>\n",
       "      <td>4.0</td>\n",
       "      <td>chattanooga</td>\n",
       "      <td>31.7</td>\n",
       "      <td>21.1</td>\n",
       "      <td>7.641581</td>\n",
       "      <td>4.087437</td>\n",
       "      <td>0.534894</td>\n",
       "      <td>204.0</td>\n",
       "      <td>35.03363</td>\n",
       "      <td>-85.20039</td>\n",
       "      <td>0.534894</td>\n",
       "    </tr>\n",
       "  </tbody>\n",
       "</table>\n",
       "</div>"
      ],
      "text/plain": [
       "         year  month  day  hour  sea_level_pressure  wind_direction  \\\n",
       "2679111  2014      9   27    13             10219.0            70.0   \n",
       "2998968  2016     10   27     5                 NaN             NaN   \n",
       "2447383  1954      9   23     9             10198.0            45.0   \n",
       "3272324  2012     11   13     7                 NaN             NaN   \n",
       "2610965  2001      9    5    21             10167.0            40.0   \n",
       "\n",
       "         wind_speed  sky_coverage         region  air_temperature  \\\n",
       "2679111        15.0           0.0  bowling green             16.7   \n",
       "2998968        99.0           NaN        jackson             99.9   \n",
       "2447383        21.0           0.0      knoxville             12.2   \n",
       "3272324         1.0           NaN      knoxville             -1.9   \n",
       "2610965        26.0           4.0    chattanooga             31.7   \n",
       "\n",
       "         dew_point_temperature  saturated_vapor_pressure  \\\n",
       "2679111                   13.9                  3.105580   \n",
       "2998968                   99.9                169.735883   \n",
       "2447383                    8.9                  2.322031   \n",
       "3272324                    NaN                  0.870340   \n",
       "2610965                   21.1                  7.641581   \n",
       "\n",
       "         actual_vapor_pressure  calculated_humidity  elevation  latitude  \\\n",
       "2679111               2.594727             0.835505      159.3  36.96467   \n",
       "2998968             169.735883             1.000000      129.2  35.59332   \n",
       "2447383               1.863802             0.802660      295.8  35.81801   \n",
       "3272324                    NaN                  NaN        NaN       NaN   \n",
       "2610965               4.087437             0.534894      204.0  35.03363   \n",
       "\n",
       "         longitude  humidity  \n",
       "2679111  -86.42379  0.835505  \n",
       "2998968  -88.91696  1.000000  \n",
       "2447383  -83.98573  0.802660  \n",
       "3272324        NaN       NaN  \n",
       "2610965  -85.20039  0.534894  "
      ]
     },
     "metadata": {},
     "output_type": "display_data"
    },
    {
     "name": "stdout",
     "output_type": "stream",
     "text": [
      "\n",
      "On X test: \n",
      "X test dimensions:  (723528, 18)\n"
     ]
    },
    {
     "data": {
      "text/html": [
       "<div>\n",
       "<style scoped>\n",
       "    .dataframe tbody tr th:only-of-type {\n",
       "        vertical-align: middle;\n",
       "    }\n",
       "\n",
       "    .dataframe tbody tr th {\n",
       "        vertical-align: top;\n",
       "    }\n",
       "\n",
       "    .dataframe thead th {\n",
       "        text-align: right;\n",
       "    }\n",
       "</style>\n",
       "<table border=\"1\" class=\"dataframe\">\n",
       "  <thead>\n",
       "    <tr style=\"text-align: right;\">\n",
       "      <th></th>\n",
       "      <th>year</th>\n",
       "      <th>month</th>\n",
       "      <th>day</th>\n",
       "      <th>hour</th>\n",
       "      <th>sea_level_pressure</th>\n",
       "      <th>wind_direction</th>\n",
       "      <th>wind_speed</th>\n",
       "      <th>sky_coverage</th>\n",
       "      <th>region</th>\n",
       "      <th>air_temperature</th>\n",
       "      <th>dew_point_temperature</th>\n",
       "      <th>saturated_vapor_pressure</th>\n",
       "      <th>actual_vapor_pressure</th>\n",
       "      <th>calculated_humidity</th>\n",
       "      <th>elevation</th>\n",
       "      <th>latitude</th>\n",
       "      <th>longitude</th>\n",
       "      <th>humidity</th>\n",
       "    </tr>\n",
       "  </thead>\n",
       "  <tbody>\n",
       "    <tr>\n",
       "      <th>2902994</th>\n",
       "      <td>1999</td>\n",
       "      <td>10</td>\n",
       "      <td>24</td>\n",
       "      <td>22</td>\n",
       "      <td>10225.0</td>\n",
       "      <td>0.0</td>\n",
       "      <td>0.0</td>\n",
       "      <td>0.0</td>\n",
       "      <td>knoxville</td>\n",
       "      <td>11.1</td>\n",
       "      <td>0.0</td>\n",
       "      <td>2.159339</td>\n",
       "      <td>1.000000</td>\n",
       "      <td>0.463105</td>\n",
       "      <td>295.8</td>\n",
       "      <td>35.81801</td>\n",
       "      <td>-83.98573</td>\n",
       "      <td>0.463105</td>\n",
       "    </tr>\n",
       "    <tr>\n",
       "      <th>2066226</th>\n",
       "      <td>2013</td>\n",
       "      <td>7</td>\n",
       "      <td>8</td>\n",
       "      <td>21</td>\n",
       "      <td>10192.0</td>\n",
       "      <td>70.0</td>\n",
       "      <td>26.0</td>\n",
       "      <td>6.0</td>\n",
       "      <td>nashville</td>\n",
       "      <td>30.0</td>\n",
       "      <td>21.7</td>\n",
       "      <td>6.934642</td>\n",
       "      <td>4.240462</td>\n",
       "      <td>0.611490</td>\n",
       "      <td>178.9</td>\n",
       "      <td>36.11054</td>\n",
       "      <td>-86.68815</td>\n",
       "      <td>0.611490</td>\n",
       "    </tr>\n",
       "    <tr>\n",
       "      <th>1982456</th>\n",
       "      <td>1996</td>\n",
       "      <td>7</td>\n",
       "      <td>13</td>\n",
       "      <td>18</td>\n",
       "      <td>10146.0</td>\n",
       "      <td>999.0</td>\n",
       "      <td>26.0</td>\n",
       "      <td>0.0</td>\n",
       "      <td>chattanooga</td>\n",
       "      <td>28.3</td>\n",
       "      <td>21.1</td>\n",
       "      <td>6.285454</td>\n",
       "      <td>4.087437</td>\n",
       "      <td>0.650301</td>\n",
       "      <td>204.0</td>\n",
       "      <td>35.03363</td>\n",
       "      <td>-85.20039</td>\n",
       "      <td>0.650301</td>\n",
       "    </tr>\n",
       "    <tr>\n",
       "      <th>3090702</th>\n",
       "      <td>1971</td>\n",
       "      <td>11</td>\n",
       "      <td>28</td>\n",
       "      <td>4</td>\n",
       "      <td>NaN</td>\n",
       "      <td>20.0</td>\n",
       "      <td>36.0</td>\n",
       "      <td>8.0</td>\n",
       "      <td>chattanooga</td>\n",
       "      <td>5.6</td>\n",
       "      <td>0.6</td>\n",
       "      <td>1.487296</td>\n",
       "      <td>1.044360</td>\n",
       "      <td>0.702187</td>\n",
       "      <td>204.0</td>\n",
       "      <td>35.03363</td>\n",
       "      <td>-85.20039</td>\n",
       "      <td>0.702187</td>\n",
       "    </tr>\n",
       "    <tr>\n",
       "      <th>2298498</th>\n",
       "      <td>1999</td>\n",
       "      <td>8</td>\n",
       "      <td>8</td>\n",
       "      <td>7</td>\n",
       "      <td>10131.0</td>\n",
       "      <td>0.0</td>\n",
       "      <td>0.0</td>\n",
       "      <td>0.0</td>\n",
       "      <td>knoxville</td>\n",
       "      <td>22.2</td>\n",
       "      <td>17.8</td>\n",
       "      <td>4.371794</td>\n",
       "      <td>3.329256</td>\n",
       "      <td>0.761531</td>\n",
       "      <td>295.8</td>\n",
       "      <td>35.81801</td>\n",
       "      <td>-83.98573</td>\n",
       "      <td>0.761531</td>\n",
       "    </tr>\n",
       "  </tbody>\n",
       "</table>\n",
       "</div>"
      ],
      "text/plain": [
       "         year  month  day  hour  sea_level_pressure  wind_direction  \\\n",
       "2902994  1999     10   24    22             10225.0             0.0   \n",
       "2066226  2013      7    8    21             10192.0            70.0   \n",
       "1982456  1996      7   13    18             10146.0           999.0   \n",
       "3090702  1971     11   28     4                 NaN            20.0   \n",
       "2298498  1999      8    8     7             10131.0             0.0   \n",
       "\n",
       "         wind_speed  sky_coverage       region  air_temperature  \\\n",
       "2902994         0.0           0.0    knoxville             11.1   \n",
       "2066226        26.0           6.0    nashville             30.0   \n",
       "1982456        26.0           0.0  chattanooga             28.3   \n",
       "3090702        36.0           8.0  chattanooga              5.6   \n",
       "2298498         0.0           0.0    knoxville             22.2   \n",
       "\n",
       "         dew_point_temperature  saturated_vapor_pressure  \\\n",
       "2902994                    0.0                  2.159339   \n",
       "2066226                   21.7                  6.934642   \n",
       "1982456                   21.1                  6.285454   \n",
       "3090702                    0.6                  1.487296   \n",
       "2298498                   17.8                  4.371794   \n",
       "\n",
       "         actual_vapor_pressure  calculated_humidity  elevation  latitude  \\\n",
       "2902994               1.000000             0.463105      295.8  35.81801   \n",
       "2066226               4.240462             0.611490      178.9  36.11054   \n",
       "1982456               4.087437             0.650301      204.0  35.03363   \n",
       "3090702               1.044360             0.702187      204.0  35.03363   \n",
       "2298498               3.329256             0.761531      295.8  35.81801   \n",
       "\n",
       "         longitude  humidity  \n",
       "2902994  -83.98573  0.463105  \n",
       "2066226  -86.68815  0.611490  \n",
       "1982456  -85.20039  0.650301  \n",
       "3090702  -85.20039  0.702187  \n",
       "2298498  -83.98573  0.761531  "
      ]
     },
     "metadata": {},
     "output_type": "display_data"
    }
   ],
   "source": [
    "# X Train\n",
    "print('On X train: ')\n",
    "print('X train dimensions: ', X_train.shape)\n",
    "display(X_train.head())\n",
    "\n",
    "# X test\n",
    "print('\\nOn X test: ')\n",
    "print('X test dimensions: ', X_test.shape)\n",
    "display(X_test.head())"
   ]
  },
  {
   "cell_type": "code",
   "execution_count": 133,
   "id": "5fc1eaac",
   "metadata": {
    "ExecuteTime": {
     "end_time": "2022-06-07T16:52:44.257809Z",
     "start_time": "2022-06-07T16:52:44.250558Z"
    }
   },
   "outputs": [
    {
     "name": "stdout",
     "output_type": "stream",
     "text": [
      "On y train: \n",
      "y train dimensions:  (2170584,)\n"
     ]
    },
    {
     "data": {
      "text/plain": [
       "2679111    no\n",
       "2998968    no\n",
       "2447383    no\n",
       "3272324    no\n",
       "2610965    no\n",
       "Name: precipitation, dtype: object"
      ]
     },
     "metadata": {},
     "output_type": "display_data"
    },
    {
     "name": "stdout",
     "output_type": "stream",
     "text": [
      "\n",
      "On y test: \n",
      "y test dimensions:  (723528,)\n"
     ]
    },
    {
     "data": {
      "text/plain": [
       "2902994    no\n",
       "2066226    no\n",
       "1982456    no\n",
       "3090702    no\n",
       "2298498    no\n",
       "Name: precipitation, dtype: object"
      ]
     },
     "metadata": {},
     "output_type": "display_data"
    }
   ],
   "source": [
    "# X Train\n",
    "print('On y train: ')\n",
    "print('y train dimensions: ', y_train.shape)\n",
    "display(y_train.head())\n",
    "\n",
    "# X test\n",
    "print('\\nOn y test: ')\n",
    "print('y test dimensions: ', y_test.shape)\n",
    "display(y_test.head())"
   ]
  },
  {
   "cell_type": "markdown",
   "id": "a881ac3b",
   "metadata": {},
   "source": [
    "## Training Pipelines"
   ]
  },
  {
   "cell_type": "code",
   "execution_count": 134,
   "id": "fb93dc7b",
   "metadata": {
    "ExecuteTime": {
     "end_time": "2022-06-07T16:54:33.646077Z",
     "start_time": "2022-06-07T16:54:33.635600Z"
    }
   },
   "outputs": [],
   "source": [
    "#individual pipelines for differing datatypes\n",
    "cat_pipeline = Pipeline(steps=[('cat_impute', SimpleImputer(missing_values=np.nan, strategy='most_frequent')),\n",
    "                               ('onehot_cat', OneHotEncoder(drop='if_binary'))])\n",
    "num_pipeline = Pipeline(steps=[('impute_num', SimpleImputer(missing_values=np.nan, strategy='mean')),\n",
    "                               ('scale_num', StandardScaler())])"
   ]
  },
  {
   "cell_type": "code",
   "execution_count": 135,
   "id": "ae623a6b",
   "metadata": {
    "ExecuteTime": {
     "end_time": "2022-06-07T16:54:48.865224Z",
     "start_time": "2022-06-07T16:54:48.860351Z"
    }
   },
   "outputs": [],
   "source": [
    "#establish preprocessing pipeline by columns\n",
    "preproc = ColumnTransformer([('cat_pipe', cat_pipeline, make_column_selector(dtype_include=object)),\n",
    "                             ('num_pipe', num_pipeline, make_column_selector(dtype_include=np.number))],\n",
    "                             remainder='passthrough')"
   ]
  },
  {
   "cell_type": "code",
   "execution_count": 136,
   "id": "3daada8c",
   "metadata": {
    "ExecuteTime": {
     "end_time": "2022-06-07T16:55:04.033516Z",
     "start_time": "2022-06-07T16:55:03.971941Z"
    }
   },
   "outputs": [
    {
     "data": {
      "text/html": [
       "<style>#sk-1f8c6339-50ed-4472-8f81-b34912ba75c9 {color: black;background-color: white;}#sk-1f8c6339-50ed-4472-8f81-b34912ba75c9 pre{padding: 0;}#sk-1f8c6339-50ed-4472-8f81-b34912ba75c9 div.sk-toggleable {background-color: white;}#sk-1f8c6339-50ed-4472-8f81-b34912ba75c9 label.sk-toggleable__label {cursor: pointer;display: block;width: 100%;margin-bottom: 0;padding: 0.3em;box-sizing: border-box;text-align: center;}#sk-1f8c6339-50ed-4472-8f81-b34912ba75c9 label.sk-toggleable__label-arrow:before {content: \"▸\";float: left;margin-right: 0.25em;color: #696969;}#sk-1f8c6339-50ed-4472-8f81-b34912ba75c9 label.sk-toggleable__label-arrow:hover:before {color: black;}#sk-1f8c6339-50ed-4472-8f81-b34912ba75c9 div.sk-estimator:hover label.sk-toggleable__label-arrow:before {color: black;}#sk-1f8c6339-50ed-4472-8f81-b34912ba75c9 div.sk-toggleable__content {max-height: 0;max-width: 0;overflow: hidden;text-align: left;background-color: #f0f8ff;}#sk-1f8c6339-50ed-4472-8f81-b34912ba75c9 div.sk-toggleable__content pre {margin: 0.2em;color: black;border-radius: 0.25em;background-color: #f0f8ff;}#sk-1f8c6339-50ed-4472-8f81-b34912ba75c9 input.sk-toggleable__control:checked~div.sk-toggleable__content {max-height: 200px;max-width: 100%;overflow: auto;}#sk-1f8c6339-50ed-4472-8f81-b34912ba75c9 input.sk-toggleable__control:checked~label.sk-toggleable__label-arrow:before {content: \"▾\";}#sk-1f8c6339-50ed-4472-8f81-b34912ba75c9 div.sk-estimator input.sk-toggleable__control:checked~label.sk-toggleable__label {background-color: #d4ebff;}#sk-1f8c6339-50ed-4472-8f81-b34912ba75c9 div.sk-label input.sk-toggleable__control:checked~label.sk-toggleable__label {background-color: #d4ebff;}#sk-1f8c6339-50ed-4472-8f81-b34912ba75c9 input.sk-hidden--visually {border: 0;clip: rect(1px 1px 1px 1px);clip: rect(1px, 1px, 1px, 1px);height: 1px;margin: -1px;overflow: hidden;padding: 0;position: absolute;width: 1px;}#sk-1f8c6339-50ed-4472-8f81-b34912ba75c9 div.sk-estimator {font-family: monospace;background-color: #f0f8ff;border: 1px dotted black;border-radius: 0.25em;box-sizing: border-box;margin-bottom: 0.5em;}#sk-1f8c6339-50ed-4472-8f81-b34912ba75c9 div.sk-estimator:hover {background-color: #d4ebff;}#sk-1f8c6339-50ed-4472-8f81-b34912ba75c9 div.sk-parallel-item::after {content: \"\";width: 100%;border-bottom: 1px solid gray;flex-grow: 1;}#sk-1f8c6339-50ed-4472-8f81-b34912ba75c9 div.sk-label:hover label.sk-toggleable__label {background-color: #d4ebff;}#sk-1f8c6339-50ed-4472-8f81-b34912ba75c9 div.sk-serial::before {content: \"\";position: absolute;border-left: 1px solid gray;box-sizing: border-box;top: 2em;bottom: 0;left: 50%;}#sk-1f8c6339-50ed-4472-8f81-b34912ba75c9 div.sk-serial {display: flex;flex-direction: column;align-items: center;background-color: white;padding-right: 0.2em;padding-left: 0.2em;}#sk-1f8c6339-50ed-4472-8f81-b34912ba75c9 div.sk-item {z-index: 1;}#sk-1f8c6339-50ed-4472-8f81-b34912ba75c9 div.sk-parallel {display: flex;align-items: stretch;justify-content: center;background-color: white;}#sk-1f8c6339-50ed-4472-8f81-b34912ba75c9 div.sk-parallel::before {content: \"\";position: absolute;border-left: 1px solid gray;box-sizing: border-box;top: 2em;bottom: 0;left: 50%;}#sk-1f8c6339-50ed-4472-8f81-b34912ba75c9 div.sk-parallel-item {display: flex;flex-direction: column;position: relative;background-color: white;}#sk-1f8c6339-50ed-4472-8f81-b34912ba75c9 div.sk-parallel-item:first-child::after {align-self: flex-end;width: 50%;}#sk-1f8c6339-50ed-4472-8f81-b34912ba75c9 div.sk-parallel-item:last-child::after {align-self: flex-start;width: 50%;}#sk-1f8c6339-50ed-4472-8f81-b34912ba75c9 div.sk-parallel-item:only-child::after {width: 0;}#sk-1f8c6339-50ed-4472-8f81-b34912ba75c9 div.sk-dashed-wrapped {border: 1px dashed gray;margin: 0 0.4em 0.5em 0.4em;box-sizing: border-box;padding-bottom: 0.4em;background-color: white;position: relative;}#sk-1f8c6339-50ed-4472-8f81-b34912ba75c9 div.sk-label label {font-family: monospace;font-weight: bold;background-color: white;display: inline-block;line-height: 1.2em;}#sk-1f8c6339-50ed-4472-8f81-b34912ba75c9 div.sk-label-container {position: relative;z-index: 2;text-align: center;}#sk-1f8c6339-50ed-4472-8f81-b34912ba75c9 div.sk-container {/* jupyter's `normalize.less` sets `[hidden] { display: none; }` but bootstrap.min.css set `[hidden] { display: none !important; }` so we also need the `!important` here to be able to override the default hidden behavior on the sphinx rendered scikit-learn.org. See: https://github.com/scikit-learn/scikit-learn/issues/21755 */display: inline-block !important;position: relative;}#sk-1f8c6339-50ed-4472-8f81-b34912ba75c9 div.sk-text-repr-fallback {display: none;}</style><div id=\"sk-1f8c6339-50ed-4472-8f81-b34912ba75c9\" class=\"sk-top-container\"><div class=\"sk-text-repr-fallback\"><pre>Pipeline(steps=[(&#x27;preproc&#x27;,\n",
       "                 ColumnTransformer(remainder=&#x27;passthrough&#x27;,\n",
       "                                   transformers=[(&#x27;cat_pipe&#x27;,\n",
       "                                                  Pipeline(steps=[(&#x27;cat_impute&#x27;,\n",
       "                                                                   SimpleImputer(strategy=&#x27;most_frequent&#x27;)),\n",
       "                                                                  (&#x27;onehot_cat&#x27;,\n",
       "                                                                   OneHotEncoder(drop=&#x27;if_binary&#x27;))]),\n",
       "                                                  &lt;sklearn.compose._column_transformer.make_column_selector object at 0x7fdfd3b616c0&gt;),\n",
       "                                                 (&#x27;num_pipe&#x27;,\n",
       "                                                  Pipeline(steps=[(&#x27;impute_num&#x27;,\n",
       "                                                                   SimpleImputer()),\n",
       "                                                                  (&#x27;scale_num&#x27;,\n",
       "                                                                   StandardScaler())]),\n",
       "                                                  &lt;sklearn.compose._column_transformer.make_column_selector object at 0x7fdfd3b61f60&gt;)])),\n",
       "                (&#x27;mdl&#x27;,\n",
       "                 LogisticRegression(penalty=&#x27;elasticnet&#x27;, solver=&#x27;saga&#x27;,\n",
       "                                    tol=0.01))])</pre><b>Please rerun this cell to show the HTML repr or trust the notebook.</b></div><div class=\"sk-container\" hidden><div class=\"sk-item sk-dashed-wrapped\"><div class=\"sk-label-container\"><div class=\"sk-label sk-toggleable\"><input class=\"sk-toggleable__control sk-hidden--visually\" id=\"b2b27d13-eae1-475a-88b1-a8f6289f44bf\" type=\"checkbox\" ><label for=\"b2b27d13-eae1-475a-88b1-a8f6289f44bf\" class=\"sk-toggleable__label sk-toggleable__label-arrow\">Pipeline</label><div class=\"sk-toggleable__content\"><pre>Pipeline(steps=[(&#x27;preproc&#x27;,\n",
       "                 ColumnTransformer(remainder=&#x27;passthrough&#x27;,\n",
       "                                   transformers=[(&#x27;cat_pipe&#x27;,\n",
       "                                                  Pipeline(steps=[(&#x27;cat_impute&#x27;,\n",
       "                                                                   SimpleImputer(strategy=&#x27;most_frequent&#x27;)),\n",
       "                                                                  (&#x27;onehot_cat&#x27;,\n",
       "                                                                   OneHotEncoder(drop=&#x27;if_binary&#x27;))]),\n",
       "                                                  &lt;sklearn.compose._column_transformer.make_column_selector object at 0x7fdfd3b616c0&gt;),\n",
       "                                                 (&#x27;num_pipe&#x27;,\n",
       "                                                  Pipeline(steps=[(&#x27;impute_num&#x27;,\n",
       "                                                                   SimpleImputer()),\n",
       "                                                                  (&#x27;scale_num&#x27;,\n",
       "                                                                   StandardScaler())]),\n",
       "                                                  &lt;sklearn.compose._column_transformer.make_column_selector object at 0x7fdfd3b61f60&gt;)])),\n",
       "                (&#x27;mdl&#x27;,\n",
       "                 LogisticRegression(penalty=&#x27;elasticnet&#x27;, solver=&#x27;saga&#x27;,\n",
       "                                    tol=0.01))])</pre></div></div></div><div class=\"sk-serial\"><div class=\"sk-item sk-dashed-wrapped\"><div class=\"sk-label-container\"><div class=\"sk-label sk-toggleable\"><input class=\"sk-toggleable__control sk-hidden--visually\" id=\"2ad15b3f-2357-4199-9ebc-9e1cfe50626f\" type=\"checkbox\" ><label for=\"2ad15b3f-2357-4199-9ebc-9e1cfe50626f\" class=\"sk-toggleable__label sk-toggleable__label-arrow\">preproc: ColumnTransformer</label><div class=\"sk-toggleable__content\"><pre>ColumnTransformer(remainder=&#x27;passthrough&#x27;,\n",
       "                  transformers=[(&#x27;cat_pipe&#x27;,\n",
       "                                 Pipeline(steps=[(&#x27;cat_impute&#x27;,\n",
       "                                                  SimpleImputer(strategy=&#x27;most_frequent&#x27;)),\n",
       "                                                 (&#x27;onehot_cat&#x27;,\n",
       "                                                  OneHotEncoder(drop=&#x27;if_binary&#x27;))]),\n",
       "                                 &lt;sklearn.compose._column_transformer.make_column_selector object at 0x7fdfd3b616c0&gt;),\n",
       "                                (&#x27;num_pipe&#x27;,\n",
       "                                 Pipeline(steps=[(&#x27;impute_num&#x27;,\n",
       "                                                  SimpleImputer()),\n",
       "                                                 (&#x27;scale_num&#x27;,\n",
       "                                                  StandardScaler())]),\n",
       "                                 &lt;sklearn.compose._column_transformer.make_column_selector object at 0x7fdfd3b61f60&gt;)])</pre></div></div></div><div class=\"sk-parallel\"><div class=\"sk-parallel-item\"><div class=\"sk-item\"><div class=\"sk-label-container\"><div class=\"sk-label sk-toggleable\"><input class=\"sk-toggleable__control sk-hidden--visually\" id=\"cf521efa-9f9c-4c70-a2bc-fe3b3077beb9\" type=\"checkbox\" ><label for=\"cf521efa-9f9c-4c70-a2bc-fe3b3077beb9\" class=\"sk-toggleable__label sk-toggleable__label-arrow\">cat_pipe</label><div class=\"sk-toggleable__content\"><pre>&lt;sklearn.compose._column_transformer.make_column_selector object at 0x7fdfd3b616c0&gt;</pre></div></div></div><div class=\"sk-serial\"><div class=\"sk-item\"><div class=\"sk-serial\"><div class=\"sk-item\"><div class=\"sk-estimator sk-toggleable\"><input class=\"sk-toggleable__control sk-hidden--visually\" id=\"58ed8009-62d6-47ce-9e4e-51287d9c4ce5\" type=\"checkbox\" ><label for=\"58ed8009-62d6-47ce-9e4e-51287d9c4ce5\" class=\"sk-toggleable__label sk-toggleable__label-arrow\">SimpleImputer</label><div class=\"sk-toggleable__content\"><pre>SimpleImputer(strategy=&#x27;most_frequent&#x27;)</pre></div></div></div><div class=\"sk-item\"><div class=\"sk-estimator sk-toggleable\"><input class=\"sk-toggleable__control sk-hidden--visually\" id=\"f1616d33-6fcf-4ec5-a4d7-14016c8f15dd\" type=\"checkbox\" ><label for=\"f1616d33-6fcf-4ec5-a4d7-14016c8f15dd\" class=\"sk-toggleable__label sk-toggleable__label-arrow\">OneHotEncoder</label><div class=\"sk-toggleable__content\"><pre>OneHotEncoder(drop=&#x27;if_binary&#x27;)</pre></div></div></div></div></div></div></div></div><div class=\"sk-parallel-item\"><div class=\"sk-item\"><div class=\"sk-label-container\"><div class=\"sk-label sk-toggleable\"><input class=\"sk-toggleable__control sk-hidden--visually\" id=\"ad89ad97-40ac-4f35-8206-cf1d096104a3\" type=\"checkbox\" ><label for=\"ad89ad97-40ac-4f35-8206-cf1d096104a3\" class=\"sk-toggleable__label sk-toggleable__label-arrow\">num_pipe</label><div class=\"sk-toggleable__content\"><pre>&lt;sklearn.compose._column_transformer.make_column_selector object at 0x7fdfd3b61f60&gt;</pre></div></div></div><div class=\"sk-serial\"><div class=\"sk-item\"><div class=\"sk-serial\"><div class=\"sk-item\"><div class=\"sk-estimator sk-toggleable\"><input class=\"sk-toggleable__control sk-hidden--visually\" id=\"bcba2c15-08e8-4c76-b7da-8db9e58297ac\" type=\"checkbox\" ><label for=\"bcba2c15-08e8-4c76-b7da-8db9e58297ac\" class=\"sk-toggleable__label sk-toggleable__label-arrow\">SimpleImputer</label><div class=\"sk-toggleable__content\"><pre>SimpleImputer()</pre></div></div></div><div class=\"sk-item\"><div class=\"sk-estimator sk-toggleable\"><input class=\"sk-toggleable__control sk-hidden--visually\" id=\"2179981a-309d-4258-a022-ad7b05a0126d\" type=\"checkbox\" ><label for=\"2179981a-309d-4258-a022-ad7b05a0126d\" class=\"sk-toggleable__label sk-toggleable__label-arrow\">StandardScaler</label><div class=\"sk-toggleable__content\"><pre>StandardScaler()</pre></div></div></div></div></div></div></div></div><div class=\"sk-parallel-item\"><div class=\"sk-item\"><div class=\"sk-label-container\"><div class=\"sk-label sk-toggleable\"><input class=\"sk-toggleable__control sk-hidden--visually\" id=\"07bf59ae-f6b3-4861-9920-e4b0b63c69b5\" type=\"checkbox\" ><label for=\"07bf59ae-f6b3-4861-9920-e4b0b63c69b5\" class=\"sk-toggleable__label sk-toggleable__label-arrow\">remainder</label><div class=\"sk-toggleable__content\"><pre></pre></div></div></div><div class=\"sk-serial\"><div class=\"sk-item\"><div class=\"sk-estimator sk-toggleable\"><input class=\"sk-toggleable__control sk-hidden--visually\" id=\"d9ebf53c-4a59-4c88-94fc-b5d3ece5ba9e\" type=\"checkbox\" ><label for=\"d9ebf53c-4a59-4c88-94fc-b5d3ece5ba9e\" class=\"sk-toggleable__label sk-toggleable__label-arrow\">passthrough</label><div class=\"sk-toggleable__content\"><pre>passthrough</pre></div></div></div></div></div></div></div></div><div class=\"sk-item\"><div class=\"sk-estimator sk-toggleable\"><input class=\"sk-toggleable__control sk-hidden--visually\" id=\"dd690d8c-6cc8-4f31-8978-e2c1915711ee\" type=\"checkbox\" ><label for=\"dd690d8c-6cc8-4f31-8978-e2c1915711ee\" class=\"sk-toggleable__label sk-toggleable__label-arrow\">LogisticRegression</label><div class=\"sk-toggleable__content\"><pre>LogisticRegression(penalty=&#x27;elasticnet&#x27;, solver=&#x27;saga&#x27;, tol=0.01)</pre></div></div></div></div></div></div></div>"
      ],
      "text/plain": [
       "Pipeline(steps=[('preproc',\n",
       "                 ColumnTransformer(remainder='passthrough',\n",
       "                                   transformers=[('cat_pipe',\n",
       "                                                  Pipeline(steps=[('cat_impute',\n",
       "                                                                   SimpleImputer(strategy='most_frequent')),\n",
       "                                                                  ('onehot_cat',\n",
       "                                                                   OneHotEncoder(drop='if_binary'))]),\n",
       "                                                  <sklearn.compose._column_transformer.make_column_selector object at 0x7fdfd3b616c0>),\n",
       "                                                 ('num_pipe',\n",
       "                                                  Pipeline(steps=[('impute_num',\n",
       "                                                                   SimpleImputer()),\n",
       "                                                                  ('scale_num',\n",
       "                                                                   StandardScaler())]),\n",
       "                                                  <sklearn.compose._column_transformer.make_column_selector object at 0x7fdfd3b61f60>)])),\n",
       "                ('mdl',\n",
       "                 LogisticRegression(penalty='elasticnet', solver='saga',\n",
       "                                    tol=0.01))])"
      ]
     },
     "metadata": {},
     "output_type": "display_data"
    }
   ],
   "source": [
    "#generate the whole modeling pipeline with preprocessing\n",
    "pipe = Pipeline(steps=[('preproc', preproc),\n",
    "                       ('mdl', LogisticRegression(penalty='elasticnet', solver='saga', tol=0.01))])\n",
    "\n",
    "#visualization for steps\n",
    "with config_context(display='diagram'):\n",
    "    display(pipe)"
   ]
  },
  {
   "cell_type": "markdown",
   "id": "f1d372d9",
   "metadata": {},
   "source": [
    "## Cross-validation and Hyperparameter Tuning"
   ]
  },
  {
   "cell_type": "code",
   "execution_count": 137,
   "id": "3c6c1a26",
   "metadata": {
    "ExecuteTime": {
     "end_time": "2022-06-07T16:57:25.792816Z",
     "start_time": "2022-06-07T16:57:25.785353Z"
    }
   },
   "outputs": [],
   "source": [
    "tuning_grid = {'mdl__l1_ratio' : np.linspace(0,1,5),\n",
    "               'mdl__C': np.logspace(-1, 6, 3) }\n",
    "grid_search = GridSearchCV(pipe, param_grid = tuning_grid, cv = 5, return_train_score=True)"
   ]
  },
  {
   "cell_type": "code",
   "execution_count": 138,
   "id": "49e47fc1",
   "metadata": {
    "ExecuteTime": {
     "end_time": "2022-06-07T16:57:42.790766Z",
     "start_time": "2022-06-07T16:57:42.787475Z"
    }
   },
   "outputs": [
    {
     "data": {
      "text/plain": [
       "{'mdl__l1_ratio': array([0.  , 0.25, 0.5 , 0.75, 1.  ]),\n",
       " 'mdl__C': array([1.00000000e-01, 3.16227766e+02, 1.00000000e+06])}"
      ]
     },
     "execution_count": 138,
     "metadata": {},
     "output_type": "execute_result"
    }
   ],
   "source": [
    "tuning_grid"
   ]
  },
  {
   "cell_type": "code",
   "execution_count": 139,
   "id": "6485118b",
   "metadata": {
    "ExecuteTime": {
     "end_time": "2022-06-07T17:32:02.465264Z",
     "start_time": "2022-06-07T16:58:06.066522Z"
    }
   },
   "outputs": [
    {
     "data": {
      "text/plain": [
       "GridSearchCV(cv=5,\n",
       "             estimator=Pipeline(steps=[('preproc',\n",
       "                                        ColumnTransformer(remainder='passthrough',\n",
       "                                                          transformers=[('cat_pipe',\n",
       "                                                                         Pipeline(steps=[('cat_impute',\n",
       "                                                                                          SimpleImputer(strategy='most_frequent')),\n",
       "                                                                                         ('onehot_cat',\n",
       "                                                                                          OneHotEncoder(drop='if_binary'))]),\n",
       "                                                                         <sklearn.compose._column_transformer.make_column_selector object at 0x7fdfd3b616c0>),\n",
       "                                                                        ('num_pipe',\n",
       "                                                                         Pipeline(step...\n",
       "                                                                                          SimpleImputer()),\n",
       "                                                                                         ('scale_num',\n",
       "                                                                                          StandardScaler())]),\n",
       "                                                                         <sklearn.compose._column_transformer.make_column_selector object at 0x7fdfd3b61f60>)])),\n",
       "                                       ('mdl',\n",
       "                                        LogisticRegression(penalty='elasticnet',\n",
       "                                                           solver='saga',\n",
       "                                                           tol=0.01))]),\n",
       "             param_grid={'mdl__C': array([1.00000000e-01, 3.16227766e+02, 1.00000000e+06]),\n",
       "                         'mdl__l1_ratio': array([0.  , 0.25, 0.5 , 0.75, 1.  ])},\n",
       "             return_train_score=True)"
      ]
     },
     "execution_count": 139,
     "metadata": {},
     "output_type": "execute_result"
    }
   ],
   "source": [
    "grid_search.fit(X_train, y_train)"
   ]
  },
  {
   "cell_type": "code",
   "execution_count": 140,
   "id": "7e0649db",
   "metadata": {
    "ExecuteTime": {
     "end_time": "2022-06-07T17:32:19.491649Z",
     "start_time": "2022-06-07T17:32:19.481009Z"
    }
   },
   "outputs": [
    {
     "name": "stdout",
     "output_type": "stream",
     "text": [
      "0.9217726657679798\n"
     ]
    },
    {
     "data": {
      "text/plain": [
       "{'mdl__C': 0.1, 'mdl__l1_ratio': 0.25}"
      ]
     },
     "execution_count": 140,
     "metadata": {},
     "output_type": "execute_result"
    }
   ],
   "source": [
    "print(grid_search.best_score_)\n",
    "grid_search.best_params_"
   ]
  },
  {
   "cell_type": "code",
   "execution_count": 141,
   "id": "6d045954",
   "metadata": {
    "ExecuteTime": {
     "end_time": "2022-06-07T17:34:05.140475Z",
     "start_time": "2022-06-07T17:34:05.092569Z"
    }
   },
   "outputs": [
    {
     "data": {
      "text/html": [
       "<div>\n",
       "<style scoped>\n",
       "    .dataframe tbody tr th:only-of-type {\n",
       "        vertical-align: middle;\n",
       "    }\n",
       "\n",
       "    .dataframe tbody tr th {\n",
       "        vertical-align: top;\n",
       "    }\n",
       "\n",
       "    .dataframe thead th {\n",
       "        text-align: right;\n",
       "    }\n",
       "</style>\n",
       "<table border=\"1\" class=\"dataframe\">\n",
       "  <thead>\n",
       "    <tr style=\"text-align: right;\">\n",
       "      <th></th>\n",
       "      <th>mean_fit_time</th>\n",
       "      <th>std_fit_time</th>\n",
       "      <th>mean_score_time</th>\n",
       "      <th>std_score_time</th>\n",
       "      <th>param_mdl__C</th>\n",
       "      <th>param_mdl__l1_ratio</th>\n",
       "      <th>params</th>\n",
       "      <th>split0_test_score</th>\n",
       "      <th>split1_test_score</th>\n",
       "      <th>split2_test_score</th>\n",
       "      <th>...</th>\n",
       "      <th>mean_test_score</th>\n",
       "      <th>std_test_score</th>\n",
       "      <th>rank_test_score</th>\n",
       "      <th>split0_train_score</th>\n",
       "      <th>split1_train_score</th>\n",
       "      <th>split2_train_score</th>\n",
       "      <th>split3_train_score</th>\n",
       "      <th>split4_train_score</th>\n",
       "      <th>mean_train_score</th>\n",
       "      <th>std_train_score</th>\n",
       "    </tr>\n",
       "  </thead>\n",
       "  <tbody>\n",
       "    <tr>\n",
       "      <th>0</th>\n",
       "      <td>19.848681</td>\n",
       "      <td>0.786488</td>\n",
       "      <td>1.113018</td>\n",
       "      <td>0.056870</td>\n",
       "      <td>0.1</td>\n",
       "      <td>0.0</td>\n",
       "      <td>{'mdl__C': 0.1, 'mdl__l1_ratio': 0.0}</td>\n",
       "      <td>0.922039</td>\n",
       "      <td>0.921560</td>\n",
       "      <td>0.921710</td>\n",
       "      <td>...</td>\n",
       "      <td>0.921770</td>\n",
       "      <td>0.000158</td>\n",
       "      <td>2</td>\n",
       "      <td>0.921677</td>\n",
       "      <td>0.921838</td>\n",
       "      <td>0.921765</td>\n",
       "      <td>0.921763</td>\n",
       "      <td>0.921791</td>\n",
       "      <td>0.921767</td>\n",
       "      <td>0.000053</td>\n",
       "    </tr>\n",
       "    <tr>\n",
       "      <th>1</th>\n",
       "      <td>21.058619</td>\n",
       "      <td>0.619395</td>\n",
       "      <td>1.111845</td>\n",
       "      <td>0.035083</td>\n",
       "      <td>0.1</td>\n",
       "      <td>0.25</td>\n",
       "      <td>{'mdl__C': 0.1, 'mdl__l1_ratio': 0.25}</td>\n",
       "      <td>0.922039</td>\n",
       "      <td>0.921560</td>\n",
       "      <td>0.921710</td>\n",
       "      <td>...</td>\n",
       "      <td>0.921773</td>\n",
       "      <td>0.000158</td>\n",
       "      <td>1</td>\n",
       "      <td>0.921676</td>\n",
       "      <td>0.921842</td>\n",
       "      <td>0.921767</td>\n",
       "      <td>0.921768</td>\n",
       "      <td>0.921792</td>\n",
       "      <td>0.921769</td>\n",
       "      <td>0.000054</td>\n",
       "    </tr>\n",
       "    <tr>\n",
       "      <th>2</th>\n",
       "      <td>21.234425</td>\n",
       "      <td>0.564315</td>\n",
       "      <td>1.088052</td>\n",
       "      <td>0.014001</td>\n",
       "      <td>0.1</td>\n",
       "      <td>0.5</td>\n",
       "      <td>{'mdl__C': 0.1, 'mdl__l1_ratio': 0.5}</td>\n",
       "      <td>0.922037</td>\n",
       "      <td>0.921558</td>\n",
       "      <td>0.921710</td>\n",
       "      <td>...</td>\n",
       "      <td>0.921762</td>\n",
       "      <td>0.000156</td>\n",
       "      <td>5</td>\n",
       "      <td>0.921679</td>\n",
       "      <td>0.921842</td>\n",
       "      <td>0.921766</td>\n",
       "      <td>0.921738</td>\n",
       "      <td>0.921792</td>\n",
       "      <td>0.921763</td>\n",
       "      <td>0.000054</td>\n",
       "    </tr>\n",
       "    <tr>\n",
       "      <th>3</th>\n",
       "      <td>21.000729</td>\n",
       "      <td>0.493615</td>\n",
       "      <td>1.079211</td>\n",
       "      <td>0.024221</td>\n",
       "      <td>0.1</td>\n",
       "      <td>0.75</td>\n",
       "      <td>{'mdl__C': 0.1, 'mdl__l1_ratio': 0.75}</td>\n",
       "      <td>0.922037</td>\n",
       "      <td>0.921560</td>\n",
       "      <td>0.921708</td>\n",
       "      <td>...</td>\n",
       "      <td>0.921761</td>\n",
       "      <td>0.000156</td>\n",
       "      <td>6</td>\n",
       "      <td>0.921678</td>\n",
       "      <td>0.921841</td>\n",
       "      <td>0.921763</td>\n",
       "      <td>0.921739</td>\n",
       "      <td>0.921790</td>\n",
       "      <td>0.921762</td>\n",
       "      <td>0.000054</td>\n",
       "    </tr>\n",
       "    <tr>\n",
       "      <th>4</th>\n",
       "      <td>21.248402</td>\n",
       "      <td>0.619909</td>\n",
       "      <td>1.120023</td>\n",
       "      <td>0.016721</td>\n",
       "      <td>0.1</td>\n",
       "      <td>1.0</td>\n",
       "      <td>{'mdl__C': 0.1, 'mdl__l1_ratio': 1.0}</td>\n",
       "      <td>0.922039</td>\n",
       "      <td>0.921558</td>\n",
       "      <td>0.921710</td>\n",
       "      <td>...</td>\n",
       "      <td>0.921763</td>\n",
       "      <td>0.000157</td>\n",
       "      <td>3</td>\n",
       "      <td>0.921683</td>\n",
       "      <td>0.921837</td>\n",
       "      <td>0.921768</td>\n",
       "      <td>0.921739</td>\n",
       "      <td>0.921795</td>\n",
       "      <td>0.921764</td>\n",
       "      <td>0.000052</td>\n",
       "    </tr>\n",
       "    <tr>\n",
       "      <th>5</th>\n",
       "      <td>19.717576</td>\n",
       "      <td>0.438892</td>\n",
       "      <td>1.106339</td>\n",
       "      <td>0.016041</td>\n",
       "      <td>316.227766</td>\n",
       "      <td>0.0</td>\n",
       "      <td>{'mdl__C': 316.22776601683796, 'mdl__l1_ratio'...</td>\n",
       "      <td>0.922039</td>\n",
       "      <td>0.921556</td>\n",
       "      <td>0.921710</td>\n",
       "      <td>...</td>\n",
       "      <td>0.921760</td>\n",
       "      <td>0.000158</td>\n",
       "      <td>10</td>\n",
       "      <td>0.921675</td>\n",
       "      <td>0.921841</td>\n",
       "      <td>0.921761</td>\n",
       "      <td>0.921736</td>\n",
       "      <td>0.921792</td>\n",
       "      <td>0.921761</td>\n",
       "      <td>0.000056</td>\n",
       "    </tr>\n",
       "    <tr>\n",
       "      <th>6</th>\n",
       "      <td>21.178436</td>\n",
       "      <td>0.572373</td>\n",
       "      <td>1.095792</td>\n",
       "      <td>0.010446</td>\n",
       "      <td>316.227766</td>\n",
       "      <td>0.25</td>\n",
       "      <td>{'mdl__C': 316.22776601683796, 'mdl__l1_ratio'...</td>\n",
       "      <td>0.922042</td>\n",
       "      <td>0.921549</td>\n",
       "      <td>0.921712</td>\n",
       "      <td>...</td>\n",
       "      <td>0.921760</td>\n",
       "      <td>0.000160</td>\n",
       "      <td>7</td>\n",
       "      <td>0.921675</td>\n",
       "      <td>0.921842</td>\n",
       "      <td>0.921761</td>\n",
       "      <td>0.921744</td>\n",
       "      <td>0.921795</td>\n",
       "      <td>0.921763</td>\n",
       "      <td>0.000055</td>\n",
       "    </tr>\n",
       "    <tr>\n",
       "      <th>7</th>\n",
       "      <td>21.526026</td>\n",
       "      <td>0.756533</td>\n",
       "      <td>1.106907</td>\n",
       "      <td>0.022778</td>\n",
       "      <td>316.227766</td>\n",
       "      <td>0.5</td>\n",
       "      <td>{'mdl__C': 316.22776601683796, 'mdl__l1_ratio'...</td>\n",
       "      <td>0.922042</td>\n",
       "      <td>0.921533</td>\n",
       "      <td>0.921710</td>\n",
       "      <td>...</td>\n",
       "      <td>0.921757</td>\n",
       "      <td>0.000165</td>\n",
       "      <td>12</td>\n",
       "      <td>0.921674</td>\n",
       "      <td>0.921823</td>\n",
       "      <td>0.921764</td>\n",
       "      <td>0.921736</td>\n",
       "      <td>0.921793</td>\n",
       "      <td>0.921758</td>\n",
       "      <td>0.000051</td>\n",
       "    </tr>\n",
       "    <tr>\n",
       "      <th>8</th>\n",
       "      <td>21.435909</td>\n",
       "      <td>0.517206</td>\n",
       "      <td>1.127143</td>\n",
       "      <td>0.023577</td>\n",
       "      <td>316.227766</td>\n",
       "      <td>0.75</td>\n",
       "      <td>{'mdl__C': 316.22776601683796, 'mdl__l1_ratio'...</td>\n",
       "      <td>0.922046</td>\n",
       "      <td>0.921544</td>\n",
       "      <td>0.921710</td>\n",
       "      <td>...</td>\n",
       "      <td>0.921760</td>\n",
       "      <td>0.000164</td>\n",
       "      <td>11</td>\n",
       "      <td>0.921674</td>\n",
       "      <td>0.921841</td>\n",
       "      <td>0.921760</td>\n",
       "      <td>0.921739</td>\n",
       "      <td>0.921790</td>\n",
       "      <td>0.921761</td>\n",
       "      <td>0.000055</td>\n",
       "    </tr>\n",
       "    <tr>\n",
       "      <th>9</th>\n",
       "      <td>21.220739</td>\n",
       "      <td>0.441552</td>\n",
       "      <td>1.096211</td>\n",
       "      <td>0.011770</td>\n",
       "      <td>316.227766</td>\n",
       "      <td>1.0</td>\n",
       "      <td>{'mdl__C': 316.22776601683796, 'mdl__l1_ratio'...</td>\n",
       "      <td>0.922044</td>\n",
       "      <td>0.921546</td>\n",
       "      <td>0.921710</td>\n",
       "      <td>...</td>\n",
       "      <td>0.921760</td>\n",
       "      <td>0.000162</td>\n",
       "      <td>7</td>\n",
       "      <td>0.921675</td>\n",
       "      <td>0.921839</td>\n",
       "      <td>0.921761</td>\n",
       "      <td>0.921738</td>\n",
       "      <td>0.921789</td>\n",
       "      <td>0.921760</td>\n",
       "      <td>0.000054</td>\n",
       "    </tr>\n",
       "    <tr>\n",
       "      <th>10</th>\n",
       "      <td>19.633127</td>\n",
       "      <td>0.445405</td>\n",
       "      <td>1.090762</td>\n",
       "      <td>0.003165</td>\n",
       "      <td>1000000.0</td>\n",
       "      <td>0.0</td>\n",
       "      <td>{'mdl__C': 1000000.0, 'mdl__l1_ratio': 0.0}</td>\n",
       "      <td>0.922046</td>\n",
       "      <td>0.921542</td>\n",
       "      <td>0.921710</td>\n",
       "      <td>...</td>\n",
       "      <td>0.921760</td>\n",
       "      <td>0.000164</td>\n",
       "      <td>9</td>\n",
       "      <td>0.921677</td>\n",
       "      <td>0.921841</td>\n",
       "      <td>0.921760</td>\n",
       "      <td>0.921736</td>\n",
       "      <td>0.921792</td>\n",
       "      <td>0.921761</td>\n",
       "      <td>0.000055</td>\n",
       "    </tr>\n",
       "    <tr>\n",
       "      <th>11</th>\n",
       "      <td>21.471315</td>\n",
       "      <td>0.658730</td>\n",
       "      <td>1.109270</td>\n",
       "      <td>0.016186</td>\n",
       "      <td>1000000.0</td>\n",
       "      <td>0.25</td>\n",
       "      <td>{'mdl__C': 1000000.0, 'mdl__l1_ratio': 0.25}</td>\n",
       "      <td>0.922049</td>\n",
       "      <td>0.921521</td>\n",
       "      <td>0.921710</td>\n",
       "      <td>...</td>\n",
       "      <td>0.921755</td>\n",
       "      <td>0.000170</td>\n",
       "      <td>14</td>\n",
       "      <td>0.921677</td>\n",
       "      <td>0.921822</td>\n",
       "      <td>0.921760</td>\n",
       "      <td>0.921738</td>\n",
       "      <td>0.921789</td>\n",
       "      <td>0.921757</td>\n",
       "      <td>0.000049</td>\n",
       "    </tr>\n",
       "    <tr>\n",
       "      <th>12</th>\n",
       "      <td>21.499519</td>\n",
       "      <td>0.730674</td>\n",
       "      <td>1.116550</td>\n",
       "      <td>0.019402</td>\n",
       "      <td>1000000.0</td>\n",
       "      <td>0.5</td>\n",
       "      <td>{'mdl__C': 1000000.0, 'mdl__l1_ratio': 0.5}</td>\n",
       "      <td>0.922035</td>\n",
       "      <td>0.921523</td>\n",
       "      <td>0.921710</td>\n",
       "      <td>...</td>\n",
       "      <td>0.921753</td>\n",
       "      <td>0.000165</td>\n",
       "      <td>15</td>\n",
       "      <td>0.921673</td>\n",
       "      <td>0.921823</td>\n",
       "      <td>0.921760</td>\n",
       "      <td>0.921741</td>\n",
       "      <td>0.921790</td>\n",
       "      <td>0.921757</td>\n",
       "      <td>0.000050</td>\n",
       "    </tr>\n",
       "    <tr>\n",
       "      <th>13</th>\n",
       "      <td>21.598325</td>\n",
       "      <td>0.724765</td>\n",
       "      <td>1.107578</td>\n",
       "      <td>0.014857</td>\n",
       "      <td>1000000.0</td>\n",
       "      <td>0.75</td>\n",
       "      <td>{'mdl__C': 1000000.0, 'mdl__l1_ratio': 0.75}</td>\n",
       "      <td>0.922042</td>\n",
       "      <td>0.921533</td>\n",
       "      <td>0.921710</td>\n",
       "      <td>...</td>\n",
       "      <td>0.921757</td>\n",
       "      <td>0.000165</td>\n",
       "      <td>12</td>\n",
       "      <td>0.921677</td>\n",
       "      <td>0.921823</td>\n",
       "      <td>0.921759</td>\n",
       "      <td>0.921738</td>\n",
       "      <td>0.921792</td>\n",
       "      <td>0.921758</td>\n",
       "      <td>0.000050</td>\n",
       "    </tr>\n",
       "    <tr>\n",
       "      <th>14</th>\n",
       "      <td>21.338249</td>\n",
       "      <td>0.486087</td>\n",
       "      <td>1.098968</td>\n",
       "      <td>0.008641</td>\n",
       "      <td>1000000.0</td>\n",
       "      <td>1.0</td>\n",
       "      <td>{'mdl__C': 1000000.0, 'mdl__l1_ratio': 1.0}</td>\n",
       "      <td>0.922046</td>\n",
       "      <td>0.921549</td>\n",
       "      <td>0.921712</td>\n",
       "      <td>...</td>\n",
       "      <td>0.921763</td>\n",
       "      <td>0.000162</td>\n",
       "      <td>4</td>\n",
       "      <td>0.921678</td>\n",
       "      <td>0.921843</td>\n",
       "      <td>0.921760</td>\n",
       "      <td>0.921739</td>\n",
       "      <td>0.921792</td>\n",
       "      <td>0.921762</td>\n",
       "      <td>0.000055</td>\n",
       "    </tr>\n",
       "  </tbody>\n",
       "</table>\n",
       "<p>15 rows × 22 columns</p>\n",
       "</div>"
      ],
      "text/plain": [
       "    mean_fit_time  std_fit_time  mean_score_time  std_score_time param_mdl__C  \\\n",
       "0       19.848681      0.786488         1.113018        0.056870          0.1   \n",
       "1       21.058619      0.619395         1.111845        0.035083          0.1   \n",
       "2       21.234425      0.564315         1.088052        0.014001          0.1   \n",
       "3       21.000729      0.493615         1.079211        0.024221          0.1   \n",
       "4       21.248402      0.619909         1.120023        0.016721          0.1   \n",
       "5       19.717576      0.438892         1.106339        0.016041   316.227766   \n",
       "6       21.178436      0.572373         1.095792        0.010446   316.227766   \n",
       "7       21.526026      0.756533         1.106907        0.022778   316.227766   \n",
       "8       21.435909      0.517206         1.127143        0.023577   316.227766   \n",
       "9       21.220739      0.441552         1.096211        0.011770   316.227766   \n",
       "10      19.633127      0.445405         1.090762        0.003165    1000000.0   \n",
       "11      21.471315      0.658730         1.109270        0.016186    1000000.0   \n",
       "12      21.499519      0.730674         1.116550        0.019402    1000000.0   \n",
       "13      21.598325      0.724765         1.107578        0.014857    1000000.0   \n",
       "14      21.338249      0.486087         1.098968        0.008641    1000000.0   \n",
       "\n",
       "   param_mdl__l1_ratio                                             params  \\\n",
       "0                  0.0              {'mdl__C': 0.1, 'mdl__l1_ratio': 0.0}   \n",
       "1                 0.25             {'mdl__C': 0.1, 'mdl__l1_ratio': 0.25}   \n",
       "2                  0.5              {'mdl__C': 0.1, 'mdl__l1_ratio': 0.5}   \n",
       "3                 0.75             {'mdl__C': 0.1, 'mdl__l1_ratio': 0.75}   \n",
       "4                  1.0              {'mdl__C': 0.1, 'mdl__l1_ratio': 1.0}   \n",
       "5                  0.0  {'mdl__C': 316.22776601683796, 'mdl__l1_ratio'...   \n",
       "6                 0.25  {'mdl__C': 316.22776601683796, 'mdl__l1_ratio'...   \n",
       "7                  0.5  {'mdl__C': 316.22776601683796, 'mdl__l1_ratio'...   \n",
       "8                 0.75  {'mdl__C': 316.22776601683796, 'mdl__l1_ratio'...   \n",
       "9                  1.0  {'mdl__C': 316.22776601683796, 'mdl__l1_ratio'...   \n",
       "10                 0.0        {'mdl__C': 1000000.0, 'mdl__l1_ratio': 0.0}   \n",
       "11                0.25       {'mdl__C': 1000000.0, 'mdl__l1_ratio': 0.25}   \n",
       "12                 0.5        {'mdl__C': 1000000.0, 'mdl__l1_ratio': 0.5}   \n",
       "13                0.75       {'mdl__C': 1000000.0, 'mdl__l1_ratio': 0.75}   \n",
       "14                 1.0        {'mdl__C': 1000000.0, 'mdl__l1_ratio': 1.0}   \n",
       "\n",
       "    split0_test_score  split1_test_score  split2_test_score  ...  \\\n",
       "0            0.922039           0.921560           0.921710  ...   \n",
       "1            0.922039           0.921560           0.921710  ...   \n",
       "2            0.922037           0.921558           0.921710  ...   \n",
       "3            0.922037           0.921560           0.921708  ...   \n",
       "4            0.922039           0.921558           0.921710  ...   \n",
       "5            0.922039           0.921556           0.921710  ...   \n",
       "6            0.922042           0.921549           0.921712  ...   \n",
       "7            0.922042           0.921533           0.921710  ...   \n",
       "8            0.922046           0.921544           0.921710  ...   \n",
       "9            0.922044           0.921546           0.921710  ...   \n",
       "10           0.922046           0.921542           0.921710  ...   \n",
       "11           0.922049           0.921521           0.921710  ...   \n",
       "12           0.922035           0.921523           0.921710  ...   \n",
       "13           0.922042           0.921533           0.921710  ...   \n",
       "14           0.922046           0.921549           0.921712  ...   \n",
       "\n",
       "    mean_test_score  std_test_score  rank_test_score  split0_train_score  \\\n",
       "0          0.921770        0.000158                2            0.921677   \n",
       "1          0.921773        0.000158                1            0.921676   \n",
       "2          0.921762        0.000156                5            0.921679   \n",
       "3          0.921761        0.000156                6            0.921678   \n",
       "4          0.921763        0.000157                3            0.921683   \n",
       "5          0.921760        0.000158               10            0.921675   \n",
       "6          0.921760        0.000160                7            0.921675   \n",
       "7          0.921757        0.000165               12            0.921674   \n",
       "8          0.921760        0.000164               11            0.921674   \n",
       "9          0.921760        0.000162                7            0.921675   \n",
       "10         0.921760        0.000164                9            0.921677   \n",
       "11         0.921755        0.000170               14            0.921677   \n",
       "12         0.921753        0.000165               15            0.921673   \n",
       "13         0.921757        0.000165               12            0.921677   \n",
       "14         0.921763        0.000162                4            0.921678   \n",
       "\n",
       "    split1_train_score  split2_train_score  split3_train_score  \\\n",
       "0             0.921838            0.921765            0.921763   \n",
       "1             0.921842            0.921767            0.921768   \n",
       "2             0.921842            0.921766            0.921738   \n",
       "3             0.921841            0.921763            0.921739   \n",
       "4             0.921837            0.921768            0.921739   \n",
       "5             0.921841            0.921761            0.921736   \n",
       "6             0.921842            0.921761            0.921744   \n",
       "7             0.921823            0.921764            0.921736   \n",
       "8             0.921841            0.921760            0.921739   \n",
       "9             0.921839            0.921761            0.921738   \n",
       "10            0.921841            0.921760            0.921736   \n",
       "11            0.921822            0.921760            0.921738   \n",
       "12            0.921823            0.921760            0.921741   \n",
       "13            0.921823            0.921759            0.921738   \n",
       "14            0.921843            0.921760            0.921739   \n",
       "\n",
       "    split4_train_score  mean_train_score  std_train_score  \n",
       "0             0.921791          0.921767         0.000053  \n",
       "1             0.921792          0.921769         0.000054  \n",
       "2             0.921792          0.921763         0.000054  \n",
       "3             0.921790          0.921762         0.000054  \n",
       "4             0.921795          0.921764         0.000052  \n",
       "5             0.921792          0.921761         0.000056  \n",
       "6             0.921795          0.921763         0.000055  \n",
       "7             0.921793          0.921758         0.000051  \n",
       "8             0.921790          0.921761         0.000055  \n",
       "9             0.921789          0.921760         0.000054  \n",
       "10            0.921792          0.921761         0.000055  \n",
       "11            0.921789          0.921757         0.000049  \n",
       "12            0.921790          0.921757         0.000050  \n",
       "13            0.921792          0.921758         0.000050  \n",
       "14            0.921792          0.921762         0.000055  \n",
       "\n",
       "[15 rows x 22 columns]"
      ]
     },
     "execution_count": 141,
     "metadata": {},
     "output_type": "execute_result"
    }
   ],
   "source": [
    "pd.DataFrame(grid_search.cv_results_)"
   ]
  },
  {
   "cell_type": "markdown",
   "id": "4caf7eca",
   "metadata": {},
   "source": [
    "## Final Fit"
   ]
  },
  {
   "cell_type": "code",
   "execution_count": 142,
   "id": "8651fcb3",
   "metadata": {
    "ExecuteTime": {
     "end_time": "2022-06-07T17:36:26.431889Z",
     "start_time": "2022-06-07T17:36:26.401547Z"
    }
   },
   "outputs": [
    {
     "data": {
      "text/plain": [
       "Pipeline(steps=[('preproc',\n",
       "                 ColumnTransformer(remainder='passthrough',\n",
       "                                   transformers=[('cat_pipe',\n",
       "                                                  Pipeline(steps=[('cat_impute',\n",
       "                                                                   SimpleImputer(strategy='most_frequent')),\n",
       "                                                                  ('onehot_cat',\n",
       "                                                                   OneHotEncoder(drop='if_binary'))]),\n",
       "                                                  <sklearn.compose._column_transformer.make_column_selector object at 0x7fdfd3b60e80>),\n",
       "                                                 ('num_pipe',\n",
       "                                                  Pipeline(steps=[('impute_num',\n",
       "                                                                   SimpleImputer()),\n",
       "                                                                  ('scale_num',\n",
       "                                                                   StandardScaler())]),\n",
       "                                                  <sklearn.compose._column_transformer.make_column_selector object at 0x7fdfd3b60dc0>)])),\n",
       "                ('mdl',\n",
       "                 LogisticRegression(C=0.1, l1_ratio=0.25, penalty='elasticnet',\n",
       "                                    solver='saga', tol=0.01))])"
      ]
     },
     "execution_count": 142,
     "metadata": {},
     "output_type": "execute_result"
    }
   ],
   "source": [
    "grid_search.best_estimator_"
   ]
  },
  {
   "cell_type": "markdown",
   "id": "aa3ef56c",
   "metadata": {},
   "source": [
    "## Variable Importance"
   ]
  },
  {
   "cell_type": "code",
   "execution_count": 143,
   "id": "05649865",
   "metadata": {
    "ExecuteTime": {
     "end_time": "2022-06-07T17:37:40.336222Z",
     "start_time": "2022-06-07T17:37:40.332488Z"
    }
   },
   "outputs": [
    {
     "data": {
      "text/plain": [
       "array(['no', 'yes'], dtype=object)"
      ]
     },
     "execution_count": 143,
     "metadata": {},
     "output_type": "execute_result"
    }
   ],
   "source": [
    "grid_search.classes_"
   ]
  },
  {
   "cell_type": "code",
   "execution_count": 144,
   "id": "8593347d",
   "metadata": {
    "ExecuteTime": {
     "end_time": "2022-06-07T17:37:56.414082Z",
     "start_time": "2022-06-07T17:37:56.406165Z"
    }
   },
   "outputs": [
    {
     "data": {
      "text/plain": [
       "array([ 1.42275370e-01, -8.27564092e-01, -5.12286579e-02, -3.80088225e-01,\n",
       "       -7.98236096e-01, -8.47029416e-01,  8.97103150e-02, -8.14192201e-03,\n",
       "        1.02501067e-03,  6.61752266e-02, -4.84673255e-01, -1.02403985e-01,\n",
       "        8.92203195e-02,  1.08648258e+00, -1.18989783e+00,  1.16329927e+00,\n",
       "        3.78579548e-01, -4.26941752e-01,  1.11711537e-02, -2.57644709e-01,\n",
       "       -1.04543072e-01,  8.40764803e-02,  1.11711537e-02])"
      ]
     },
     "execution_count": 144,
     "metadata": {},
     "output_type": "execute_result"
    }
   ],
   "source": [
    "vip = grid_search.best_estimator_['mdl'].coef_[0]\n",
    "vip"
   ]
  },
  {
   "cell_type": "code",
   "execution_count": 146,
   "id": "1b8b326c",
   "metadata": {
    "ExecuteTime": {
     "end_time": "2022-06-07T17:40:06.321611Z",
     "start_time": "2022-06-07T17:40:05.849136Z"
    }
   },
   "outputs": [
    {
     "data": {
      "image/png": "[encoded data removed]",
      "text/plain": [
       "<Figure size 1800x1440 with 1 Axes>"
      ]
     },
     "metadata": {
      "needs_background": "light"
     },
     "output_type": "display_data"
    }
   ],
   "source": [
    "#get names in correct preproc order\n",
    "cat_names = grid_search.best_estimator_.named_steps['preproc'].transformers_[0][1].named_steps['onehot_cat'].get_feature_names_out()\n",
    "num_names = grid_search.best_estimator_.named_steps['preproc'].transformers_[1][2]\n",
    "\n",
    "#create df with vip info\n",
    "coef_info = pd.DataFrame({'feat_names':np.hstack([cat_names, num_names]), 'vip': vip})\n",
    "\n",
    "#get sign and magnitude information\n",
    "coef_info = coef_info.assign(coef_mag = abs(coef_info['vip']),\n",
    "                             coef_sign = np.sign(coef_info['vip']))\n",
    "\n",
    "#sort and plot\n",
    "coef_info = coef_info.set_index('feat_names').sort_values(by='coef_mag', ascending=False)\n",
    "sns.barplot(y=coef_info.index, x='coef_mag', hue='coef_sign', data=coef_info, orient='h', dodge=False);"
   ]
  },
  {
   "cell_type": "markdown",
   "id": "ffba6aa8",
   "metadata": {},
   "source": [
    "## Performance metrics on test data"
   ]
  },
  {
   "cell_type": "code",
   "execution_count": 147,
   "id": "eef57420",
   "metadata": {
    "ExecuteTime": {
     "end_time": "2022-06-07T17:42:07.827838Z",
     "start_time": "2022-06-07T17:41:45.387535Z"
    }
   },
   "outputs": [
    {
     "name": "stdout",
     "output_type": "stream",
     "text": [
      "              precision    recall  f1-score   support\n",
      "\n",
      "          no       0.93      1.00      0.96    667567\n",
      "         yes       0.44      0.04      0.07     55961\n",
      "\n",
      "    accuracy                           0.92    723528\n",
      "   macro avg       0.68      0.52      0.52    723528\n",
      "weighted avg       0.89      0.92      0.89    723528\n",
      "\n"
     ]
    }
   ],
   "source": [
    "print(classification_report(y_test, grid_search.best_estimator_.predict(X_test)))"
   ]
  },
  {
   "cell_type": "code",
   "execution_count": 148,
   "id": "387631ce",
   "metadata": {
    "ExecuteTime": {
     "end_time": "2022-06-07T17:43:06.102806Z",
     "start_time": "2022-06-07T17:43:02.671351Z"
    }
   },
   "outputs": [
    {
     "data": {
      "image/png": "[encoded data removed]",
      "text/plain": [
       "<Figure size 1800x1440 with 2 Axes>"
      ]
     },
     "metadata": {
      "needs_background": "light"
     },
     "output_type": "display_data"
    }
   ],
   "source": [
    "cm = confusion_matrix(y_test, grid_search.best_estimator_.predict(X_test))\n",
    "disp = ConfusionMatrixDisplay(confusion_matrix=cm,\n",
    "                               display_labels=grid_search.classes_)\n",
    "disp.plot()\n",
    "\n",
    "plt.show()"
   ]
  },
  {
   "cell_type": "code",
   "execution_count": 153,
   "id": "842022b0",
   "metadata": {
    "ExecuteTime": {
     "end_time": "2022-06-07T17:47:39.456740Z",
     "start_time": "2022-06-07T17:47:37.823184Z"
    }
   },
   "outputs": [
    {
     "name": "stdout",
     "output_type": "stream",
     "text": [
      "Best Threshold=0.088218, Net Gain=0.518\n"
     ]
    },
    {
     "data": {
      "image/png": "[encoded data removed]",
      "text/plain": [
       "<Figure size 1800x1440 with 1 Axes>"
      ]
     },
     "metadata": {
      "needs_background": "light"
     },
     "output_type": "display_data"
    }
   ],
   "source": [
    "y_pred = grid_search.best_estimator_.predict_proba(X_test)\n",
    "y_pred = y_pred[:, 1]\n",
    "\n",
    "fpr, tpr, thresholds = roc_curve(y_test, y_pred, pos_label='yes')\n",
    "\n",
    "net_gain = tpr - fpr\n",
    "\n",
    "# find the index of highest net_gain\n",
    "ix = np.argmax(net_gain)\n",
    "print('Best Threshold=%f, Net Gain=%.3f' % (thresholds[ix], net_gain[ix]))\n",
    "\n",
    "# plot roc curve\n",
    "plt.plot([0,1], [0,1], linestyle='--', label='tpr = fpr')\n",
    "plt.plot(fpr, tpr, marker='.', label='Logistic Regression')\n",
    "plt.scatter(fpr[ix], tpr[ix], marker='o', color='black', label='Best threshold')\n",
    "\n",
    "# axis labels\n",
    "plt.xlabel('FPR')\n",
    "plt.ylabel('TPR')\n",
    "plt.legend()\n",
    "\n",
    "plt.show()"
   ]
  },
  {
   "cell_type": "code",
   "execution_count": null,
   "id": "6ac4004d",
   "metadata": {},
   "outputs": [],
   "source": []
  }
 ],
 "metadata": {
  "kernelspec": {
   "display_name": "Python 3 (ipykernel)",
   "language": "python",
   "name": "python3"
  },
  "language_info": {
   "codemirror_mode": {
    "name": "ipython",
    "version": 3
   },
   "file_extension": ".py",
   "mimetype": "text/x-python",
   "name": "python",
   "nbconvert_exporter": "python",
   "pygments_lexer": "ipython3",
   "version": "3.10.4"
  },
  "latex_envs": {
   "LaTeX_envs_menu_present": true,
   "autoclose": false,
   "autocomplete": true,
   "bibliofile": "biblio.bib",
   "cite_by": "apalike",
   "current_citInitial": 1,
   "eqLabelWithNumbers": true,
   "eqNumInitial": 1,
   "hotkeys": {
    "equation": "Ctrl-E",
    "itemize": "Ctrl-I"
   },
   "labels_anchors": false,
   "latex_user_defs": false,
   "report_style_numbering": false,
   "user_envs_cfg": false
  },
  "varInspector": {
   "cols": {
    "lenName": 16,
    "lenType": 16,
    "lenVar": 40
   },
   "kernels_config": {
    "python": {
     "delete_cmd_postfix": "",
     "delete_cmd_prefix": "del ",
     "library": "var_list.py",
     "varRefreshCmd": "print(var_dic_list())"
    },
    "r": {
     "delete_cmd_postfix": ") ",
     "delete_cmd_prefix": "rm(",
     "library": "var_list.r",
     "varRefreshCmd": "cat(var_dic_list()) "
    }
   },
   "types_to_exclude": [
    "module",
    "function",
    "builtin_function_or_method",
    "instance",
    "_Feature"
   ],
   "window_display": false
  }
 },
 "nbformat": 4,
 "nbformat_minor": 5
}
